{
 "cells": [
  {
   "cell_type": "code",
   "execution_count": 1,
   "id": "e0be7441",
   "metadata": {},
   "outputs": [],
   "source": [
    "import model_training_improved as mti\n",
    "import pandas as pd\n",
    "import numpy as np\n",
    "import matplotlib.pyplot as plt\n",
    "import awkward as ak"
   ]
  },
  {
   "cell_type": "code",
   "execution_count": 2,
   "id": "b8c3ae2b",
   "metadata": {},
   "outputs": [],
   "source": [
    "def read_arrays(file_path):\n",
    "    \"\"\"\n",
    "    Read arrays from a ROOT file.\n",
    "    \"\"\"\n",
    "    import uproot as r\n",
    "    f = r.open(file_path)\n",
    "    tree = f[\"Delphes\"]\n",
    "\n",
    "    # read jet features as variable-length arrays (padded with zeros)\n",
    "    jet_pt = ak.fill_none(ak.pad_none(tree[\"Jet.PT\"].array(), 4, axis=1), 0)\n",
    "    jet_eta = ak.fill_none(ak.pad_none(tree[\"Jet.Eta\"].array(), 4, axis=1), 0)\n",
    "    jet_phi = ak.fill_none(ak.pad_none(tree[\"Jet.Phi\"].array(), 4, axis=1), 0)\n",
    "    jet_mass = ak.fill_none(ak.pad_none(tree[\"Jet.Mass\"].array(), 4, axis=1), 0)\n",
    "\n",
    "    # build jet features as a dataframe\n",
    "    df = pd.DataFrame({\n",
    "        \"jet_pt1\": jet_pt[:, 0],\n",
    "        \"jet_eta1\": jet_eta[:, 0],\n",
    "        \"jet_phi1\": jet_phi[:, 0],\n",
    "        \"jet_mass1\": jet_mass[:, 0],\n",
    "        \"jet_pt2\": jet_pt[:, 1],\n",
    "        \"jet_eta2\": jet_eta[:, 1],\n",
    "        \"jet_phi2\": jet_phi[:, 1],\n",
    "        \"jet_mass2\": jet_mass[:, 1],\n",
    "        # \"jet_pt3\": jet_pt[:, 2],\n",
    "        # \"jet_eta3\": jet_eta[:, 2],\n",
    "        # \"jet_phi3\": jet_phi[:, 2],\n",
    "        # 'jet_mass3': jet_mass[:, 2],\n",
    "    })\n",
    "    # build other jet variables\n",
    "    df[\"jet_deta12\"] = abs(df[\"jet_eta1\"] - df[\"jet_eta2\"])\n",
    "    df['jet_dphi12'] = (df['jet_phi1'] - df['jet_phi2']) % (2 * np.pi)  # constrain to [0, 2pi]\n",
    "\n",
    "    # 新的变量\n",
    "    \n",
    "    # 计算新物理变量\n",
    "    df['jet_E1'] = np.sqrt(df['jet_pt1']**2 * np.cosh(df['jet_eta1'])**2 + df['jet_mass1']**2)\n",
    "    df['jet_E2'] = np.sqrt(df['jet_pt2']**2 * np.cosh(df['jet_eta2'])**2 + df['jet_mass2']**2)\n",
    "    # 喷注对不变量质量\n",
    "    df['jet_inv_mass'] = np.sqrt((df['jet_E1'] + df['jet_E2'])**2 - \n",
    "                                (df['jet_pt1']*np.sinh(df['jet_eta1']) + df['jet_pt2']*np.sinh(df['jet_eta2']))**2 - \n",
    "                                (df['jet_pt1']*np.cos(df['jet_phi1']) + df['jet_pt2']*np.cos(df['jet_phi2']))**2)\n",
    "    # 角度差\n",
    "    df['jet_dR12'] = np.sqrt((df['jet_eta1'] - df['jet_eta2'])**2 + \n",
    "                            (df['jet_phi1'] - df['jet_phi2'])**2)\n",
    "    # 横向动量不对称性\n",
    "    df['jet_aT'] = np.abs(df['jet_pt1'] - df['jet_pt2']) / (df['jet_pt1'] + df['jet_pt2'])\n",
    "\n",
    "    return df"
   ]
  },
  {
   "cell_type": "code",
   "execution_count": 3,
   "id": "6fc8c0d9",
   "metadata": {},
   "outputs": [
    {
     "data": {
      "text/html": [
       "<div>\n",
       "<style scoped>\n",
       "    .dataframe tbody tr th:only-of-type {\n",
       "        vertical-align: middle;\n",
       "    }\n",
       "\n",
       "    .dataframe tbody tr th {\n",
       "        vertical-align: top;\n",
       "    }\n",
       "\n",
       "    .dataframe thead th {\n",
       "        text-align: right;\n",
       "    }\n",
       "</style>\n",
       "<table border=\"1\" class=\"dataframe\">\n",
       "  <thead>\n",
       "    <tr style=\"text-align: right;\">\n",
       "      <th></th>\n",
       "      <th>jet_pt1</th>\n",
       "      <th>jet_eta1</th>\n",
       "      <th>jet_phi1</th>\n",
       "      <th>jet_mass1</th>\n",
       "      <th>jet_pt2</th>\n",
       "      <th>jet_eta2</th>\n",
       "      <th>jet_phi2</th>\n",
       "      <th>jet_mass2</th>\n",
       "      <th>jet_deta12</th>\n",
       "      <th>jet_dphi12</th>\n",
       "      <th>jet_E1</th>\n",
       "      <th>jet_E2</th>\n",
       "      <th>jet_inv_mass</th>\n",
       "      <th>jet_dR12</th>\n",
       "      <th>jet_aT</th>\n",
       "      <th>label</th>\n",
       "      <th>label_is_sig</th>\n",
       "    </tr>\n",
       "  </thead>\n",
       "  <tbody>\n",
       "    <tr>\n",
       "      <th>0</th>\n",
       "      <td>431.166626</td>\n",
       "      <td>-0.409789</td>\n",
       "      <td>-0.053466</td>\n",
       "      <td>16.269297</td>\n",
       "      <td>409.961182</td>\n",
       "      <td>0.653760</td>\n",
       "      <td>3.079527</td>\n",
       "      <td>16.136507</td>\n",
       "      <td>1.063549</td>\n",
       "      <td>3.150192</td>\n",
       "      <td>468.161176</td>\n",
       "      <td>500.995320</td>\n",
       "      <td>963.121978</td>\n",
       "      <td>3.308592</td>\n",
       "      <td>0.025211</td>\n",
       "      <td>1</td>\n",
       "      <td>1</td>\n",
       "    </tr>\n",
       "    <tr>\n",
       "      <th>1</th>\n",
       "      <td>281.611206</td>\n",
       "      <td>-0.309674</td>\n",
       "      <td>0.142321</td>\n",
       "      <td>5.474829</td>\n",
       "      <td>266.998352</td>\n",
       "      <td>1.263712</td>\n",
       "      <td>-2.993311</td>\n",
       "      <td>9.688689</td>\n",
       "      <td>1.573386</td>\n",
       "      <td>3.135632</td>\n",
       "      <td>295.273207</td>\n",
       "      <td>510.210322</td>\n",
       "      <td>727.209284</td>\n",
       "      <td>3.508238</td>\n",
       "      <td>0.026636</td>\n",
       "      <td>1</td>\n",
       "      <td>1</td>\n",
       "    </tr>\n",
       "    <tr>\n",
       "      <th>2</th>\n",
       "      <td>430.977814</td>\n",
       "      <td>0.712181</td>\n",
       "      <td>1.090687</td>\n",
       "      <td>12.586125</td>\n",
       "      <td>404.504059</td>\n",
       "      <td>-0.164918</td>\n",
       "      <td>-2.051517</td>\n",
       "      <td>12.297118</td>\n",
       "      <td>0.877099</td>\n",
       "      <td>3.142204</td>\n",
       "      <td>545.117942</td>\n",
       "      <td>410.201726</td>\n",
       "      <td>917.306488</td>\n",
       "      <td>3.262322</td>\n",
       "      <td>0.031687</td>\n",
       "      <td>1</td>\n",
       "      <td>1</td>\n",
       "    </tr>\n",
       "    <tr>\n",
       "      <th>3</th>\n",
       "      <td>540.412903</td>\n",
       "      <td>0.508327</td>\n",
       "      <td>1.826380</td>\n",
       "      <td>17.101940</td>\n",
       "      <td>400.870605</td>\n",
       "      <td>0.364258</td>\n",
       "      <td>-1.318158</td>\n",
       "      <td>13.366835</td>\n",
       "      <td>0.144070</td>\n",
       "      <td>3.144537</td>\n",
       "      <td>611.988838</td>\n",
       "      <td>427.969272</td>\n",
       "      <td>943.463661</td>\n",
       "      <td>3.147836</td>\n",
       "      <td>0.148247</td>\n",
       "      <td>1</td>\n",
       "      <td>1</td>\n",
       "    </tr>\n",
       "    <tr>\n",
       "      <th>4</th>\n",
       "      <td>221.092957</td>\n",
       "      <td>-0.547750</td>\n",
       "      <td>-1.200881</td>\n",
       "      <td>2.974811</td>\n",
       "      <td>215.453430</td>\n",
       "      <td>2.328024</td>\n",
       "      <td>1.938679</td>\n",
       "      <td>9.611918</td>\n",
       "      <td>2.875774</td>\n",
       "      <td>3.143626</td>\n",
       "      <td>255.115208</td>\n",
       "      <td>1115.566850</td>\n",
       "      <td>971.159916</td>\n",
       "      <td>4.257571</td>\n",
       "      <td>0.012919</td>\n",
       "      <td>1</td>\n",
       "      <td>1</td>\n",
       "    </tr>\n",
       "    <tr>\n",
       "      <th>...</th>\n",
       "      <td>...</td>\n",
       "      <td>...</td>\n",
       "      <td>...</td>\n",
       "      <td>...</td>\n",
       "      <td>...</td>\n",
       "      <td>...</td>\n",
       "      <td>...</td>\n",
       "      <td>...</td>\n",
       "      <td>...</td>\n",
       "      <td>...</td>\n",
       "      <td>...</td>\n",
       "      <td>...</td>\n",
       "      <td>...</td>\n",
       "      <td>...</td>\n",
       "      <td>...</td>\n",
       "      <td>...</td>\n",
       "      <td>...</td>\n",
       "    </tr>\n",
       "    <tr>\n",
       "      <th>99995</th>\n",
       "      <td>113.362823</td>\n",
       "      <td>-0.791257</td>\n",
       "      <td>0.909017</td>\n",
       "      <td>5.877603</td>\n",
       "      <td>90.417923</td>\n",
       "      <td>-2.293667</td>\n",
       "      <td>-2.210016</td>\n",
       "      <td>6.940484</td>\n",
       "      <td>1.502410</td>\n",
       "      <td>3.119033</td>\n",
       "      <td>150.855485</td>\n",
       "      <td>452.690504</td>\n",
       "      <td>263.271102</td>\n",
       "      <td>3.462023</td>\n",
       "      <td>0.112596</td>\n",
       "      <td>0</td>\n",
       "      <td>0</td>\n",
       "    </tr>\n",
       "    <tr>\n",
       "      <th>99996</th>\n",
       "      <td>156.986099</td>\n",
       "      <td>1.158455</td>\n",
       "      <td>0.568787</td>\n",
       "      <td>16.566175</td>\n",
       "      <td>111.824272</td>\n",
       "      <td>2.234097</td>\n",
       "      <td>-2.614952</td>\n",
       "      <td>7.807077</td>\n",
       "      <td>1.075643</td>\n",
       "      <td>3.183739</td>\n",
       "      <td>275.144638</td>\n",
       "      <td>528.155479</td>\n",
       "      <td>306.973547</td>\n",
       "      <td>3.360536</td>\n",
       "      <td>0.168006</td>\n",
       "      <td>0</td>\n",
       "      <td>0</td>\n",
       "    </tr>\n",
       "    <tr>\n",
       "      <th>99997</th>\n",
       "      <td>126.222260</td>\n",
       "      <td>2.718263</td>\n",
       "      <td>-3.091912</td>\n",
       "      <td>4.411303</td>\n",
       "      <td>123.380188</td>\n",
       "      <td>0.561036</td>\n",
       "      <td>0.059249</td>\n",
       "      <td>9.470507</td>\n",
       "      <td>2.157227</td>\n",
       "      <td>3.132025</td>\n",
       "      <td>960.559533</td>\n",
       "      <td>143.625162</td>\n",
       "      <td>410.273456</td>\n",
       "      <td>3.818827</td>\n",
       "      <td>0.011386</td>\n",
       "      <td>0</td>\n",
       "      <td>0</td>\n",
       "    </tr>\n",
       "    <tr>\n",
       "      <th>99998</th>\n",
       "      <td>108.420639</td>\n",
       "      <td>1.886348</td>\n",
       "      <td>3.070095</td>\n",
       "      <td>6.271837</td>\n",
       "      <td>92.195427</td>\n",
       "      <td>0.425001</td>\n",
       "      <td>-0.089519</td>\n",
       "      <td>9.848572</td>\n",
       "      <td>1.461346</td>\n",
       "      <td>3.159614</td>\n",
       "      <td>365.803268</td>\n",
       "      <td>101.128673</td>\n",
       "      <td>256.721183</td>\n",
       "      <td>3.481191</td>\n",
       "      <td>0.080877</td>\n",
       "      <td>0</td>\n",
       "      <td>0</td>\n",
       "    </tr>\n",
       "    <tr>\n",
       "      <th>99999</th>\n",
       "      <td>113.589111</td>\n",
       "      <td>-0.914284</td>\n",
       "      <td>3.108233</td>\n",
       "      <td>7.656299</td>\n",
       "      <td>85.901093</td>\n",
       "      <td>0.483807</td>\n",
       "      <td>-0.085332</td>\n",
       "      <td>11.093863</td>\n",
       "      <td>1.398090</td>\n",
       "      <td>3.193565</td>\n",
       "      <td>164.643302</td>\n",
       "      <td>96.789989</td>\n",
       "      <td>248.657528</td>\n",
       "      <td>3.486189</td>\n",
       "      <td>0.138794</td>\n",
       "      <td>0</td>\n",
       "      <td>0</td>\n",
       "    </tr>\n",
       "  </tbody>\n",
       "</table>\n",
       "<p>300000 rows × 17 columns</p>\n",
       "</div>"
      ],
      "text/plain": [
       "          jet_pt1  jet_eta1  jet_phi1  jet_mass1     jet_pt2  jet_eta2  \\\n",
       "0      431.166626 -0.409789 -0.053466  16.269297  409.961182  0.653760   \n",
       "1      281.611206 -0.309674  0.142321   5.474829  266.998352  1.263712   \n",
       "2      430.977814  0.712181  1.090687  12.586125  404.504059 -0.164918   \n",
       "3      540.412903  0.508327  1.826380  17.101940  400.870605  0.364258   \n",
       "4      221.092957 -0.547750 -1.200881   2.974811  215.453430  2.328024   \n",
       "...           ...       ...       ...        ...         ...       ...   \n",
       "99995  113.362823 -0.791257  0.909017   5.877603   90.417923 -2.293667   \n",
       "99996  156.986099  1.158455  0.568787  16.566175  111.824272  2.234097   \n",
       "99997  126.222260  2.718263 -3.091912   4.411303  123.380188  0.561036   \n",
       "99998  108.420639  1.886348  3.070095   6.271837   92.195427  0.425001   \n",
       "99999  113.589111 -0.914284  3.108233   7.656299   85.901093  0.483807   \n",
       "\n",
       "       jet_phi2  jet_mass2  jet_deta12  jet_dphi12      jet_E1       jet_E2  \\\n",
       "0      3.079527  16.136507    1.063549    3.150192  468.161176   500.995320   \n",
       "1     -2.993311   9.688689    1.573386    3.135632  295.273207   510.210322   \n",
       "2     -2.051517  12.297118    0.877099    3.142204  545.117942   410.201726   \n",
       "3     -1.318158  13.366835    0.144070    3.144537  611.988838   427.969272   \n",
       "4      1.938679   9.611918    2.875774    3.143626  255.115208  1115.566850   \n",
       "...         ...        ...         ...         ...         ...          ...   \n",
       "99995 -2.210016   6.940484    1.502410    3.119033  150.855485   452.690504   \n",
       "99996 -2.614952   7.807077    1.075643    3.183739  275.144638   528.155479   \n",
       "99997  0.059249   9.470507    2.157227    3.132025  960.559533   143.625162   \n",
       "99998 -0.089519   9.848572    1.461346    3.159614  365.803268   101.128673   \n",
       "99999 -0.085332  11.093863    1.398090    3.193565  164.643302    96.789989   \n",
       "\n",
       "       jet_inv_mass  jet_dR12    jet_aT  label  label_is_sig  \n",
       "0        963.121978  3.308592  0.025211      1             1  \n",
       "1        727.209284  3.508238  0.026636      1             1  \n",
       "2        917.306488  3.262322  0.031687      1             1  \n",
       "3        943.463661  3.147836  0.148247      1             1  \n",
       "4        971.159916  4.257571  0.012919      1             1  \n",
       "...             ...       ...       ...    ...           ...  \n",
       "99995    263.271102  3.462023  0.112596      0             0  \n",
       "99996    306.973547  3.360536  0.168006      0             0  \n",
       "99997    410.273456  3.818827  0.011386      0             0  \n",
       "99998    256.721183  3.481191  0.080877      0             0  \n",
       "99999    248.657528  3.486189  0.138794      0             0  \n",
       "\n",
       "[300000 rows x 17 columns]"
      ]
     },
     "execution_count": 3,
     "metadata": {},
     "output_type": "execute_result"
    }
   ],
   "source": [
    "\"\"\"\n",
    "这是一个处理物理分析数据的代码片段，主要用于读取不同能量下的Z'粒子数据和多重 jets 背景数据，\n",
    "并为每个数据样本分配标签以便后续的分类分析。\n",
    "\"\"\"\n",
    "file_list = [\n",
    "    './data/delphes_zprime_1TeV.root',\n",
    "    './data/delphes_zprime_1p5TeV.root',\n",
    "    './data/delphes_zprime_2TeV.root',\n",
    "    './data/delphes_zprime_2p5TeV.root',\n",
    "    './data/delphes_multijet.root',\n",
    "]\n",
    "\n",
    "df_list = []  # 用于存储读取的数据框的列表\n",
    "for i, file in enumerate(file_list):\n",
    "    df_list.append(read_arrays(file))  # Read features from ROOT file and append to list\n",
    "    if 'zprime_1TeV' in file:  # Assign integer label to each sample for classification\n",
    "        df_list[i]['label'] = 1\n",
    "    elif 'zprime_1p5TeV' in file:\n",
    "        df_list[i]['label'] = 2\n",
    "    elif 'zprime_2TeV' in file:\n",
    "        df_list[i]['label'] = 3\n",
    "    elif 'zprime_2p5TeV' in file:\n",
    "        df_list[i]['label'] = 4\n",
    "    elif 'multijet' in file:\n",
    "        df_list[i]['label'] = 0  # background\n",
    "\n",
    "    # a variable used as training label: (signal: 1, background: 0)\n",
    "    df_list[i]['label_is_sig'] = (df_list[i]['label'] > 0).astype(int)\n",
    "\n",
    "df = pd.concat(df_list, axis=0)  # Concatenate all DataFrames into a single DataFrame for analysis\n",
    "df\n"
   ]
  },
  {
   "cell_type": "code",
   "execution_count": 4,
   "metadata": {},
   "outputs": [
    {
     "name": "stderr",
     "output_type": "stream",
     "text": [
      "💡 Tip: For seamless cloud uploads and versioning, try installing [litmodels](https://pypi.org/project/litmodels/) to enable LitModelCheckpoint, which syncs automatically with the Lightning model registry.\n",
      "GPU available: False, used: False\n",
      "TPU available: False, using: 0 TPU cores\n",
      "HPU available: False, using: 0 HPUs\n"
     ]
    },
    {
     "name": "stdout",
     "output_type": "stream",
     "text": [
      "PyTorch版本: 2.7.1+cpu\n",
      "CUDA是否可用: False\n",
      "未检测到GPU设备 使用CPU\n",
      "目标列类别分布:\n",
      "label_is_sig\n",
      "1    0.666667\n",
      "0    0.333333\n",
      "Name: proportion, dtype: float64\n",
      "检查数据中的NaN值...\n",
      "警告: 输入数据中包含NaN值，将替换为0\n",
      "标准化数据...\n",
      "检查类别不平衡...\n",
      "目标列包含两个类别，将使用分层抽样\n",
      "数据预处理完成\n",
      "目标列类别分布:\n",
      "label_is_sig\n",
      "1    0.666667\n",
      "0    0.333333\n",
      "Name: proportion, dtype: float64\n",
      "处理前数据形状: (300000, 30)\n",
      "包含NaN值的列: []\n",
      "训练集大小: 240000\n",
      "验证集大小: 30000\n",
      "测试集大小: 30000\n"
     ]
    },
    {
     "name": "stderr",
     "output_type": "stream",
     "text": [
      "💡 Tip: For seamless cloud uploads and versioning, try installing [litmodels](https://pypi.org/project/litmodels/) to enable LitModelCheckpoint, which syncs automatically with the Lightning model registry.\n",
      "GPU available: False, used: False\n",
      "TPU available: False, using: 0 TPU cores\n",
      "HPU available: False, using: 0 HPUs\n"
     ]
    },
    {
     "name": "stdout",
     "output_type": "stream",
     "text": [
      "开始训练模型...\n"
     ]
    },
    {
     "name": "stderr",
     "output_type": "stream",
     "text": [
      "\n",
      "   | Name      | Type               | Params | Mode \n",
      "----------------------------------------------------------\n",
      "0  | layer1    | Linear             | 1.8 K  | train\n",
      "1  | bn1       | BatchNorm1d        | 256    | train\n",
      "2  | dropout1  | Dropout            | 0      | train\n",
      "3  | layer2    | Linear             | 16.5 K | train\n",
      "4  | bn2       | BatchNorm1d        | 256    | train\n",
      "5  | dropout2  | Dropout            | 0      | train\n",
      "6  | layer3    | Linear             | 8.3 K  | train\n",
      "7  | bn3       | BatchNorm1d        | 128    | train\n",
      "8  | dropout3  | Dropout            | 0      | train\n",
      "9  | layer4    | Linear             | 130    | train\n",
      "10 | train_acc | MulticlassAccuracy | 0      | train\n",
      "11 | val_acc   | MulticlassAccuracy | 0      | train\n",
      "----------------------------------------------------------\n",
      "27.3 K    Trainable params\n",
      "0         Non-trainable params\n",
      "27.3 K    Total params\n",
      "0.109     Total estimated model params size (MB)\n",
      "12        Modules in train mode\n",
      "0         Modules in eval mode\n"
     ]
    },
    {
     "data": {
      "application/vnd.jupyter.widget-view+json": {
       "model_id": "d72341de11f04a95bfcf27fb18fb0aa4",
       "version_major": 2,
       "version_minor": 0
      },
      "text/plain": [
       "Sanity Checking: |          | 0/? [00:00<?, ?it/s]"
      ]
     },
     "metadata": {},
     "output_type": "display_data"
    },
    {
     "data": {
      "application/vnd.jupyter.widget-view+json": {
       "model_id": "20160a7480ad4396985aed5997562068",
       "version_major": 2,
       "version_minor": 0
      },
      "text/plain": [
       "Training: |          | 0/? [00:00<?, ?it/s]"
      ]
     },
     "metadata": {},
     "output_type": "display_data"
    },
    {
     "data": {
      "application/vnd.jupyter.widget-view+json": {
       "model_id": "557bcbe2ce0645fa8750d2d6451a136e",
       "version_major": 2,
       "version_minor": 0
      },
      "text/plain": [
       "Validation: |          | 0/? [00:00<?, ?it/s]"
      ]
     },
     "metadata": {},
     "output_type": "display_data"
    },
    {
     "data": {
      "application/vnd.jupyter.widget-view+json": {
       "model_id": "e2f225fe787e4a97abd47840c3af9a4c",
       "version_major": 2,
       "version_minor": 0
      },
      "text/plain": [
       "Validation: |          | 0/? [00:00<?, ?it/s]"
      ]
     },
     "metadata": {},
     "output_type": "display_data"
    },
    {
     "data": {
      "application/vnd.jupyter.widget-view+json": {
       "model_id": "753f35c911804f48988661d1a3085451",
       "version_major": 2,
       "version_minor": 0
      },
      "text/plain": [
       "Validation: |          | 0/? [00:00<?, ?it/s]"
      ]
     },
     "metadata": {},
     "output_type": "display_data"
    },
    {
     "data": {
      "application/vnd.jupyter.widget-view+json": {
       "model_id": "2278cefbd41e4cd5ae07aa8397f0b226",
       "version_major": 2,
       "version_minor": 0
      },
      "text/plain": [
       "Validation: |          | 0/? [00:00<?, ?it/s]"
      ]
     },
     "metadata": {},
     "output_type": "display_data"
    },
    {
     "data": {
      "application/vnd.jupyter.widget-view+json": {
       "model_id": "635da29661b34b05b2a5e064e26a30a7",
       "version_major": 2,
       "version_minor": 0
      },
      "text/plain": [
       "Validation: |          | 0/? [00:00<?, ?it/s]"
      ]
     },
     "metadata": {},
     "output_type": "display_data"
    },
    {
     "data": {
      "application/vnd.jupyter.widget-view+json": {
       "model_id": "53c13f630ade489ea6d8db691d5ca99a",
       "version_major": 2,
       "version_minor": 0
      },
      "text/plain": [
       "Validation: |          | 0/? [00:00<?, ?it/s]"
      ]
     },
     "metadata": {},
     "output_type": "display_data"
    },
    {
     "data": {
      "application/vnd.jupyter.widget-view+json": {
       "model_id": "1eea15fcff7f4b509b04f044a389a6bf",
       "version_major": 2,
       "version_minor": 0
      },
      "text/plain": [
       "Validation: |          | 0/? [00:00<?, ?it/s]"
      ]
     },
     "metadata": {},
     "output_type": "display_data"
    },
    {
     "data": {
      "application/vnd.jupyter.widget-view+json": {
       "model_id": "dd12f770973f45aa9b9949052ac40891",
       "version_major": 2,
       "version_minor": 0
      },
      "text/plain": [
       "Validation: |          | 0/? [00:00<?, ?it/s]"
      ]
     },
     "metadata": {},
     "output_type": "display_data"
    },
    {
     "data": {
      "application/vnd.jupyter.widget-view+json": {
       "model_id": "bd776bf4dfb24655be061fe47d333984",
       "version_major": 2,
       "version_minor": 0
      },
      "text/plain": [
       "Validation: |          | 0/? [00:00<?, ?it/s]"
      ]
     },
     "metadata": {},
     "output_type": "display_data"
    },
    {
     "data": {
      "application/vnd.jupyter.widget-view+json": {
       "model_id": "38f30a69342e44e69a503df829d4c683",
       "version_major": 2,
       "version_minor": 0
      },
      "text/plain": [
       "Validation: |          | 0/? [00:00<?, ?it/s]"
      ]
     },
     "metadata": {},
     "output_type": "display_data"
    },
    {
     "data": {
      "application/vnd.jupyter.widget-view+json": {
       "model_id": "3238640f2ce24931a193b2b2d7e57db2",
       "version_major": 2,
       "version_minor": 0
      },
      "text/plain": [
       "Validation: |          | 0/? [00:00<?, ?it/s]"
      ]
     },
     "metadata": {},
     "output_type": "display_data"
    },
    {
     "data": {
      "application/vnd.jupyter.widget-view+json": {
       "model_id": "d201da9071d242cca52e1e8bbf785d8f",
       "version_major": 2,
       "version_minor": 0
      },
      "text/plain": [
       "Validation: |          | 0/? [00:00<?, ?it/s]"
      ]
     },
     "metadata": {},
     "output_type": "display_data"
    },
    {
     "data": {
      "application/vnd.jupyter.widget-view+json": {
       "model_id": "9cf3fd8d74154ddfbabec4fa2fb8d35c",
       "version_major": 2,
       "version_minor": 0
      },
      "text/plain": [
       "Validation: |          | 0/? [00:00<?, ?it/s]"
      ]
     },
     "metadata": {},
     "output_type": "display_data"
    },
    {
     "data": {
      "application/vnd.jupyter.widget-view+json": {
       "model_id": "f4a5b370a079405595e6c6f47a7a06a0",
       "version_major": 2,
       "version_minor": 0
      },
      "text/plain": [
       "Validation: |          | 0/? [00:00<?, ?it/s]"
      ]
     },
     "metadata": {},
     "output_type": "display_data"
    },
    {
     "data": {
      "application/vnd.jupyter.widget-view+json": {
       "model_id": "b75de67af1574d6fac69796b79a780c9",
       "version_major": 2,
       "version_minor": 0
      },
      "text/plain": [
       "Validation: |          | 0/? [00:00<?, ?it/s]"
      ]
     },
     "metadata": {},
     "output_type": "display_data"
    },
    {
     "data": {
      "application/vnd.jupyter.widget-view+json": {
       "model_id": "680f142accca403497c869ca9461c392",
       "version_major": 2,
       "version_minor": 0
      },
      "text/plain": [
       "Validation: |          | 0/? [00:00<?, ?it/s]"
      ]
     },
     "metadata": {},
     "output_type": "display_data"
    },
    {
     "data": {
      "application/vnd.jupyter.widget-view+json": {
       "model_id": "c69ff0f3f2884e268d2cb91e08e28309",
       "version_major": 2,
       "version_minor": 0
      },
      "text/plain": [
       "Validation: |          | 0/? [00:00<?, ?it/s]"
      ]
     },
     "metadata": {},
     "output_type": "display_data"
    },
    {
     "data": {
      "application/vnd.jupyter.widget-view+json": {
       "model_id": "6e33670110954dc2b1f4d8394d2fcb6a",
       "version_major": 2,
       "version_minor": 0
      },
      "text/plain": [
       "Validation: |          | 0/? [00:00<?, ?it/s]"
      ]
     },
     "metadata": {},
     "output_type": "display_data"
    },
    {
     "data": {
      "application/vnd.jupyter.widget-view+json": {
       "model_id": "4fe6e861bda54063b74a2dd767e923ba",
       "version_major": 2,
       "version_minor": 0
      },
      "text/plain": [
       "Validation: |          | 0/? [00:00<?, ?it/s]"
      ]
     },
     "metadata": {},
     "output_type": "display_data"
    },
    {
     "data": {
      "application/vnd.jupyter.widget-view+json": {
       "model_id": "69d3c94ed00e4c919c16e0e54f3453e6",
       "version_major": 2,
       "version_minor": 0
      },
      "text/plain": [
       "Validation: |          | 0/? [00:00<?, ?it/s]"
      ]
     },
     "metadata": {},
     "output_type": "display_data"
    },
    {
     "data": {
      "application/vnd.jupyter.widget-view+json": {
       "model_id": "53c6b7e06d964267a77fc6234ad75004",
       "version_major": 2,
       "version_minor": 0
      },
      "text/plain": [
       "Validation: |          | 0/? [00:00<?, ?it/s]"
      ]
     },
     "metadata": {},
     "output_type": "display_data"
    },
    {
     "data": {
      "application/vnd.jupyter.widget-view+json": {
       "model_id": "752d8486f8df425892c2612a53929c16",
       "version_major": 2,
       "version_minor": 0
      },
      "text/plain": [
       "Validation: |          | 0/? [00:00<?, ?it/s]"
      ]
     },
     "metadata": {},
     "output_type": "display_data"
    },
    {
     "data": {
      "application/vnd.jupyter.widget-view+json": {
       "model_id": "44b427446ba64d8a90c11d8de2f68f8c",
       "version_major": 2,
       "version_minor": 0
      },
      "text/plain": [
       "Validation: |          | 0/? [00:00<?, ?it/s]"
      ]
     },
     "metadata": {},
     "output_type": "display_data"
    },
    {
     "data": {
      "application/vnd.jupyter.widget-view+json": {
       "model_id": "283df0c7d1ee4f3c8c39de3068dbd2e9",
       "version_major": 2,
       "version_minor": 0
      },
      "text/plain": [
       "Validation: |          | 0/? [00:00<?, ?it/s]"
      ]
     },
     "metadata": {},
     "output_type": "display_data"
    },
    {
     "data": {
      "application/vnd.jupyter.widget-view+json": {
       "model_id": "298c1e6bf096459f9d6835dccc71bda9",
       "version_major": 2,
       "version_minor": 0
      },
      "text/plain": [
       "Validation: |          | 0/? [00:00<?, ?it/s]"
      ]
     },
     "metadata": {},
     "output_type": "display_data"
    },
    {
     "data": {
      "application/vnd.jupyter.widget-view+json": {
       "model_id": "767a5aee1ae642aeaa3647cb39cb1999",
       "version_major": 2,
       "version_minor": 0
      },
      "text/plain": [
       "Validation: |          | 0/? [00:00<?, ?it/s]"
      ]
     },
     "metadata": {},
     "output_type": "display_data"
    },
    {
     "data": {
      "application/vnd.jupyter.widget-view+json": {
       "model_id": "88b5b4ee272e4114b64704d05dea3b77",
       "version_major": 2,
       "version_minor": 0
      },
      "text/plain": [
       "Validation: |          | 0/? [00:00<?, ?it/s]"
      ]
     },
     "metadata": {},
     "output_type": "display_data"
    },
    {
     "data": {
      "application/vnd.jupyter.widget-view+json": {
       "model_id": "99bb06474c514c2cbcf7bb1ea446eafb",
       "version_major": 2,
       "version_minor": 0
      },
      "text/plain": [
       "Validation: |          | 0/? [00:00<?, ?it/s]"
      ]
     },
     "metadata": {},
     "output_type": "display_data"
    },
    {
     "data": {
      "application/vnd.jupyter.widget-view+json": {
       "model_id": "9ea915c300d3486fa327a01ccfabae17",
       "version_major": 2,
       "version_minor": 0
      },
      "text/plain": [
       "Validation: |          | 0/? [00:00<?, ?it/s]"
      ]
     },
     "metadata": {},
     "output_type": "display_data"
    },
    {
     "data": {
      "application/vnd.jupyter.widget-view+json": {
       "model_id": "c2905e7883824aa393b26b67874f0e26",
       "version_major": 2,
       "version_minor": 0
      },
      "text/plain": [
       "Validation: |          | 0/? [00:00<?, ?it/s]"
      ]
     },
     "metadata": {},
     "output_type": "display_data"
    },
    {
     "data": {
      "application/vnd.jupyter.widget-view+json": {
       "model_id": "54f803c72fb24cfd95d654374ecb4e9e",
       "version_major": 2,
       "version_minor": 0
      },
      "text/plain": [
       "Validation: |          | 0/? [00:00<?, ?it/s]"
      ]
     },
     "metadata": {},
     "output_type": "display_data"
    },
    {
     "data": {
      "application/vnd.jupyter.widget-view+json": {
       "model_id": "a411140992d745479546fff006644e28",
       "version_major": 2,
       "version_minor": 0
      },
      "text/plain": [
       "Validation: |          | 0/? [00:00<?, ?it/s]"
      ]
     },
     "metadata": {},
     "output_type": "display_data"
    },
    {
     "data": {
      "application/vnd.jupyter.widget-view+json": {
       "model_id": "31eac79202f8494b8b201c749aca5cc5",
       "version_major": 2,
       "version_minor": 0
      },
      "text/plain": [
       "Validation: |          | 0/? [00:00<?, ?it/s]"
      ]
     },
     "metadata": {},
     "output_type": "display_data"
    },
    {
     "data": {
      "application/vnd.jupyter.widget-view+json": {
       "model_id": "5e7922d8472e4f76b995b9dfc64f1e5b",
       "version_major": 2,
       "version_minor": 0
      },
      "text/plain": [
       "Validation: |          | 0/? [00:00<?, ?it/s]"
      ]
     },
     "metadata": {},
     "output_type": "display_data"
    },
    {
     "data": {
      "application/vnd.jupyter.widget-view+json": {
       "model_id": "43f74eb4cca446048d86016854ca34a8",
       "version_major": 2,
       "version_minor": 0
      },
      "text/plain": [
       "Validation: |          | 0/? [00:00<?, ?it/s]"
      ]
     },
     "metadata": {},
     "output_type": "display_data"
    },
    {
     "data": {
      "application/vnd.jupyter.widget-view+json": {
       "model_id": "f9a84e5e919f4ce580765dca11439b7c",
       "version_major": 2,
       "version_minor": 0
      },
      "text/plain": [
       "Validation: |          | 0/? [00:00<?, ?it/s]"
      ]
     },
     "metadata": {},
     "output_type": "display_data"
    },
    {
     "name": "stdout",
     "output_type": "stream",
     "text": [
      "保存模型到: ./tb_logs/improved_model/16-56.ckpt\n",
      "在测试集上评估模型...\n",
      "\n",
      "分类报告:\n",
      "              precision    recall  f1-score   support\n",
      "\n",
      "  Background       0.97      0.96      0.97     10000\n",
      "      Signal       0.98      0.99      0.98     20000\n",
      "\n",
      "    accuracy                           0.98     30000\n",
      "   macro avg       0.98      0.98      0.98     30000\n",
      "weighted avg       0.98      0.98      0.98     30000\n",
      "\n",
      "测试集AUC: 0.9979\n"
     ]
    },
    {
     "data": {
      "image/png": "[encoded data removed]",
      "text/plain": [
       "<Figure size 800x600 with 1 Axes>"
      ]
     },
     "metadata": {},
     "output_type": "display_data"
    },
    {
     "name": "stdout",
     "output_type": "stream",
     "text": [
      "训练完成，测试集AUC: 0.9979\n"
     ]
    }
   ],
   "source": [
    "# 使用已经定义的df数据框架(而不是未定义的df1)\n",
    "# 确保input_columns和target_column已经定义\n",
    "\n",
    "# 如果尚未定义，可以定义如下：\n",
    "input_columns = ['jet_pt1', 'jet_eta1', 'jet_phi1', 'jet_mass1', 'jet_pt2', \n",
    "                'jet_eta2', 'jet_phi2', 'jet_mass2', 'jet_deta12', 'jet_dphi12',\n",
    "                'jet_inv_mass', 'jet_dR12', 'jet_aT']\n",
    "target_column = 'label_is_sig'\n",
    "\n",
    "# 定义模型保存路径\n",
    "model_path = \"./tb_logs/improved_model/16-56.ckpt\"\n",
    "\n",
    "# 调用改进的训练函数\n",
    "model, auc = mti.train_model(\n",
    "    df=df,  # 使用已经定义好的df，而不是df1\n",
    "    input_columns=input_columns,\n",
    "    target_column=target_column,\n",
    "    model_path=model_path,\n",
    "    max_epochs=50,\n",
    "    batch_size=128\n",
    ")\n",
    "\n",
    "print(f\"训练完成，测试集AUC: {auc:.4f}\")\n"
   ]
  },
  {
   "cell_type": "code",
   "execution_count": 27,
   "id": "1d1059a2",
   "metadata": {},
   "outputs": [
    {
     "name": "stderr",
     "output_type": "stream",
     "text": [
      "💡 Tip: For seamless cloud uploads and versioning, try installing [litmodels](https://pypi.org/project/litmodels/) to enable LitModelCheckpoint, which syncs automatically with the Lightning model registry.\n",
      "GPU available: False, used: False\n",
      "TPU available: False, using: 0 TPU cores\n",
      "HPU available: False, using: 0 HPUs\n"
     ]
    },
    {
     "name": "stdout",
     "output_type": "stream",
     "text": [
      "PyTorch版本: 2.7.1+cpu\n",
      "CUDA是否可用: False\n",
      "未检测到GPU设备 使用CPU\n",
      "目标列类别分布:\n",
      "label_is_sig\n",
      "1    0.666667\n",
      "0    0.333333\n",
      "Name: proportion, dtype: float64\n",
      "检查数据中的NaN值...\n",
      "警告: 输入数据中包含NaN值，将替换为0\n",
      "标准化数据...\n",
      "检查类别不平衡...\n",
      "目标列包含两个类别，将使用分层抽样\n",
      "数据预处理完成\n",
      "处理前数据形状: (300000, 30)\n",
      "包含NaN值的列: []\n",
      "训练集大小: 240000\n",
      "验证集大小: 30000\n",
      "测试集大小: 30000\n"
     ]
    },
    {
     "name": "stderr",
     "output_type": "stream",
     "text": [
      "\n",
      "   | Name      | Type               | Params | Mode \n",
      "----------------------------------------------------------\n",
      "0  | layer1    | Linear             | 1.8 K  | train\n",
      "1  | bn1       | BatchNorm1d        | 256    | train\n",
      "2  | dropout1  | Dropout            | 0      | train\n",
      "3  | layer2    | Linear             | 16.5 K | train\n",
      "4  | bn2       | BatchNorm1d        | 256    | train\n",
      "5  | dropout2  | Dropout            | 0      | train\n",
      "6  | layer3    | Linear             | 8.3 K  | train\n",
      "7  | bn3       | BatchNorm1d        | 128    | train\n",
      "8  | dropout3  | Dropout            | 0      | train\n",
      "9  | layer4    | Linear             | 130    | train\n",
      "10 | train_acc | MulticlassAccuracy | 0      | train\n",
      "11 | val_acc   | MulticlassAccuracy | 0      | train\n",
      "----------------------------------------------------------\n",
      "27.3 K    Trainable params\n",
      "0         Non-trainable params\n",
      "27.3 K    Total params\n",
      "0.109     Total estimated model params size (MB)\n",
      "12        Modules in train mode\n",
      "0         Modules in eval mode\n"
     ]
    },
    {
     "name": "stdout",
     "output_type": "stream",
     "text": [
      "开始训练模型...\n"
     ]
    },
    {
     "data": {
      "application/vnd.jupyter.widget-view+json": {
       "model_id": "e50788ab410c4b42839be8e62ecf2110",
       "version_major": 2,
       "version_minor": 0
      },
      "text/plain": [
       "Sanity Checking: |          | 0/? [00:00<?, ?it/s]"
      ]
     },
     "metadata": {},
     "output_type": "display_data"
    },
    {
     "data": {
      "application/vnd.jupyter.widget-view+json": {
       "model_id": "7b631e3a8282487e9e52e6a99da62556",
       "version_major": 2,
       "version_minor": 0
      },
      "text/plain": [
       "Training: |          | 0/? [00:00<?, ?it/s]"
      ]
     },
     "metadata": {},
     "output_type": "display_data"
    },
    {
     "data": {
      "application/vnd.jupyter.widget-view+json": {
       "model_id": "41b6dbdf03534c87b9c3a15e641acbf1",
       "version_major": 2,
       "version_minor": 0
      },
      "text/plain": [
       "Validation: |          | 0/? [00:00<?, ?it/s]"
      ]
     },
     "metadata": {},
     "output_type": "display_data"
    },
    {
     "data": {
      "application/vnd.jupyter.widget-view+json": {
       "model_id": "1cd252d0a79a4df7bc3ce8bd71997afe",
       "version_major": 2,
       "version_minor": 0
      },
      "text/plain": [
       "Validation: |          | 0/? [00:00<?, ?it/s]"
      ]
     },
     "metadata": {},
     "output_type": "display_data"
    },
    {
     "data": {
      "application/vnd.jupyter.widget-view+json": {
       "model_id": "2a62d739654b459fad0f277f67f205e1",
       "version_major": 2,
       "version_minor": 0
      },
      "text/plain": [
       "Validation: |          | 0/? [00:00<?, ?it/s]"
      ]
     },
     "metadata": {},
     "output_type": "display_data"
    },
    {
     "data": {
      "application/vnd.jupyter.widget-view+json": {
       "model_id": "77dcdebd93744cdbbbea26b8c5d03fb3",
       "version_major": 2,
       "version_minor": 0
      },
      "text/plain": [
       "Validation: |          | 0/? [00:00<?, ?it/s]"
      ]
     },
     "metadata": {},
     "output_type": "display_data"
    },
    {
     "name": "stderr",
     "output_type": "stream",
     "text": [
      "e:\\anaconda\\Lib\\site-packages\\torch\\optim\\lr_scheduler.py:198: UserWarning: The epoch parameter in `scheduler.step()` was not necessary and is being deprecated where possible. Please use `scheduler.step()` to step the scheduler. During the deprecation, if epoch is different from None, the closed form is used instead of the new chainable form, where available. Please open an issue if you are unable to replicate your use case: https://github.com/pytorch/pytorch/issues/new/choose.\n",
      "  warnings.warn(EPOCH_DEPRECATION_WARNING, UserWarning)\n"
     ]
    },
    {
     "data": {
      "application/vnd.jupyter.widget-view+json": {
       "model_id": "30b72b4c2f2444f48a5f99097e17db07",
       "version_major": 2,
       "version_minor": 0
      },
      "text/plain": [
       "Validation: |          | 0/? [00:00<?, ?it/s]"
      ]
     },
     "metadata": {},
     "output_type": "display_data"
    },
    {
     "data": {
      "application/vnd.jupyter.widget-view+json": {
       "model_id": "2407c4f751c34a1cb58b26e0eafaa03f",
       "version_major": 2,
       "version_minor": 0
      },
      "text/plain": [
       "Validation: |          | 0/? [00:00<?, ?it/s]"
      ]
     },
     "metadata": {},
     "output_type": "display_data"
    },
    {
     "data": {
      "application/vnd.jupyter.widget-view+json": {
       "model_id": "f9eea49499674b94a65e35f1389de6e7",
       "version_major": 2,
       "version_minor": 0
      },
      "text/plain": [
       "Validation: |          | 0/? [00:00<?, ?it/s]"
      ]
     },
     "metadata": {},
     "output_type": "display_data"
    },
    {
     "data": {
      "application/vnd.jupyter.widget-view+json": {
       "model_id": "bbcb07501bf94e8e80299109d6b79cc6",
       "version_major": 2,
       "version_minor": 0
      },
      "text/plain": [
       "Validation: |          | 0/? [00:00<?, ?it/s]"
      ]
     },
     "metadata": {},
     "output_type": "display_data"
    },
    {
     "data": {
      "application/vnd.jupyter.widget-view+json": {
       "model_id": "ad1b4e5d92ac44c3afb220f528185874",
       "version_major": 2,
       "version_minor": 0
      },
      "text/plain": [
       "Validation: |          | 0/? [00:00<?, ?it/s]"
      ]
     },
     "metadata": {},
     "output_type": "display_data"
    },
    {
     "data": {
      "application/vnd.jupyter.widget-view+json": {
       "model_id": "813dc8f0989c432ba307f56c852db69a",
       "version_major": 2,
       "version_minor": 0
      },
      "text/plain": [
       "Validation: |          | 0/? [00:00<?, ?it/s]"
      ]
     },
     "metadata": {},
     "output_type": "display_data"
    },
    {
     "data": {
      "application/vnd.jupyter.widget-view+json": {
       "model_id": "bd616603621047879f9d013b803c659e",
       "version_major": 2,
       "version_minor": 0
      },
      "text/plain": [
       "Validation: |          | 0/? [00:00<?, ?it/s]"
      ]
     },
     "metadata": {},
     "output_type": "display_data"
    },
    {
     "data": {
      "application/vnd.jupyter.widget-view+json": {
       "model_id": "89bede0564c2490fbb6453b4dede6549",
       "version_major": 2,
       "version_minor": 0
      },
      "text/plain": [
       "Validation: |          | 0/? [00:00<?, ?it/s]"
      ]
     },
     "metadata": {},
     "output_type": "display_data"
    },
    {
     "data": {
      "application/vnd.jupyter.widget-view+json": {
       "model_id": "d49e0f48e5fe4e3093eb915213e33a35",
       "version_major": 2,
       "version_minor": 0
      },
      "text/plain": [
       "Validation: |          | 0/? [00:00<?, ?it/s]"
      ]
     },
     "metadata": {},
     "output_type": "display_data"
    },
    {
     "data": {
      "application/vnd.jupyter.widget-view+json": {
       "model_id": "0ed1ca7876764125874ca90f96de96a1",
       "version_major": 2,
       "version_minor": 0
      },
      "text/plain": [
       "Validation: |          | 0/? [00:00<?, ?it/s]"
      ]
     },
     "metadata": {},
     "output_type": "display_data"
    },
    {
     "data": {
      "application/vnd.jupyter.widget-view+json": {
       "model_id": "181a072953ec44aa99665ada00b39434",
       "version_major": 2,
       "version_minor": 0
      },
      "text/plain": [
       "Validation: |          | 0/? [00:00<?, ?it/s]"
      ]
     },
     "metadata": {},
     "output_type": "display_data"
    },
    {
     "data": {
      "application/vnd.jupyter.widget-view+json": {
       "model_id": "204b2244c9ff4f16a5db53cc7a9690f2",
       "version_major": 2,
       "version_minor": 0
      },
      "text/plain": [
       "Validation: |          | 0/? [00:00<?, ?it/s]"
      ]
     },
     "metadata": {},
     "output_type": "display_data"
    },
    {
     "data": {
      "application/vnd.jupyter.widget-view+json": {
       "model_id": "8c5ce13ea41b4227a44c1dfc02c0315b",
       "version_major": 2,
       "version_minor": 0
      },
      "text/plain": [
       "Validation: |          | 0/? [00:00<?, ?it/s]"
      ]
     },
     "metadata": {},
     "output_type": "display_data"
    },
    {
     "data": {
      "application/vnd.jupyter.widget-view+json": {
       "model_id": "61df5e319587489fadf7266cb7835989",
       "version_major": 2,
       "version_minor": 0
      },
      "text/plain": [
       "Validation: |          | 0/? [00:00<?, ?it/s]"
      ]
     },
     "metadata": {},
     "output_type": "display_data"
    },
    {
     "data": {
      "application/vnd.jupyter.widget-view+json": {
       "model_id": "18efb9b94f214ebcaa69faf04783e4ba",
       "version_major": 2,
       "version_minor": 0
      },
      "text/plain": [
       "Validation: |          | 0/? [00:00<?, ?it/s]"
      ]
     },
     "metadata": {},
     "output_type": "display_data"
    },
    {
     "data": {
      "application/vnd.jupyter.widget-view+json": {
       "model_id": "49377c50367b4e9cba707790575b4107",
       "version_major": 2,
       "version_minor": 0
      },
      "text/plain": [
       "Validation: |          | 0/? [00:00<?, ?it/s]"
      ]
     },
     "metadata": {},
     "output_type": "display_data"
    },
    {
     "data": {
      "application/vnd.jupyter.widget-view+json": {
       "model_id": "efbdad6ff5874b4198902d7fc767f618",
       "version_major": 2,
       "version_minor": 0
      },
      "text/plain": [
       "Validation: |          | 0/? [00:00<?, ?it/s]"
      ]
     },
     "metadata": {},
     "output_type": "display_data"
    },
    {
     "data": {
      "application/vnd.jupyter.widget-view+json": {
       "model_id": "f568455b25f0435d9f7239339f59b98e",
       "version_major": 2,
       "version_minor": 0
      },
      "text/plain": [
       "Validation: |          | 0/? [00:00<?, ?it/s]"
      ]
     },
     "metadata": {},
     "output_type": "display_data"
    },
    {
     "data": {
      "application/vnd.jupyter.widget-view+json": {
       "model_id": "07a7173bc2aa44fd8b472c7f2d7e5c72",
       "version_major": 2,
       "version_minor": 0
      },
      "text/plain": [
       "Validation: |          | 0/? [00:00<?, ?it/s]"
      ]
     },
     "metadata": {},
     "output_type": "display_data"
    },
    {
     "data": {
      "application/vnd.jupyter.widget-view+json": {
       "model_id": "d544c73ccb27462890c2c01ee88cfc7c",
       "version_major": 2,
       "version_minor": 0
      },
      "text/plain": [
       "Validation: |          | 0/? [00:00<?, ?it/s]"
      ]
     },
     "metadata": {},
     "output_type": "display_data"
    },
    {
     "data": {
      "application/vnd.jupyter.widget-view+json": {
       "model_id": "a64e1e7377eb486294081827e797b610",
       "version_major": 2,
       "version_minor": 0
      },
      "text/plain": [
       "Validation: |          | 0/? [00:00<?, ?it/s]"
      ]
     },
     "metadata": {},
     "output_type": "display_data"
    },
    {
     "data": {
      "application/vnd.jupyter.widget-view+json": {
       "model_id": "05a87420f623458283624f9c43b7d73f",
       "version_major": 2,
       "version_minor": 0
      },
      "text/plain": [
       "Validation: |          | 0/? [00:00<?, ?it/s]"
      ]
     },
     "metadata": {},
     "output_type": "display_data"
    },
    {
     "data": {
      "application/vnd.jupyter.widget-view+json": {
       "model_id": "635090d0e4134ccebf77444df8b15f1f",
       "version_major": 2,
       "version_minor": 0
      },
      "text/plain": [
       "Validation: |          | 0/? [00:00<?, ?it/s]"
      ]
     },
     "metadata": {},
     "output_type": "display_data"
    },
    {
     "data": {
      "application/vnd.jupyter.widget-view+json": {
       "model_id": "f54329cf65b048b19e8de5219b57e06d",
       "version_major": 2,
       "version_minor": 0
      },
      "text/plain": [
       "Validation: |          | 0/? [00:00<?, ?it/s]"
      ]
     },
     "metadata": {},
     "output_type": "display_data"
    },
    {
     "data": {
      "application/vnd.jupyter.widget-view+json": {
       "model_id": "7fe5e0747afc45c998ef9c2b412c0869",
       "version_major": 2,
       "version_minor": 0
      },
      "text/plain": [
       "Validation: |          | 0/? [00:00<?, ?it/s]"
      ]
     },
     "metadata": {},
     "output_type": "display_data"
    },
    {
     "data": {
      "application/vnd.jupyter.widget-view+json": {
       "model_id": "e035b76f9a33449ebadd384cacdf05cd",
       "version_major": 2,
       "version_minor": 0
      },
      "text/plain": [
       "Validation: |          | 0/? [00:00<?, ?it/s]"
      ]
     },
     "metadata": {},
     "output_type": "display_data"
    },
    {
     "data": {
      "application/vnd.jupyter.widget-view+json": {
       "model_id": "7a59ca7d0c4741b9afd5e4ada20cd741",
       "version_major": 2,
       "version_minor": 0
      },
      "text/plain": [
       "Validation: |          | 0/? [00:00<?, ?it/s]"
      ]
     },
     "metadata": {},
     "output_type": "display_data"
    },
    {
     "data": {
      "application/vnd.jupyter.widget-view+json": {
       "model_id": "2a5ee81dea86402484b1c8be7d90ca38",
       "version_major": 2,
       "version_minor": 0
      },
      "text/plain": [
       "Validation: |          | 0/? [00:00<?, ?it/s]"
      ]
     },
     "metadata": {},
     "output_type": "display_data"
    },
    {
     "data": {
      "application/vnd.jupyter.widget-view+json": {
       "model_id": "ab145e55fb30488b99ce49d79a74287d",
       "version_major": 2,
       "version_minor": 0
      },
      "text/plain": [
       "Validation: |          | 0/? [00:00<?, ?it/s]"
      ]
     },
     "metadata": {},
     "output_type": "display_data"
    },
    {
     "data": {
      "application/vnd.jupyter.widget-view+json": {
       "model_id": "c5515ca58f2149dbab758168e2e7147c",
       "version_major": 2,
       "version_minor": 0
      },
      "text/plain": [
       "Validation: |          | 0/? [00:00<?, ?it/s]"
      ]
     },
     "metadata": {},
     "output_type": "display_data"
    },
    {
     "data": {
      "application/vnd.jupyter.widget-view+json": {
       "model_id": "466e6cbd9ef7411283f29151ff05c890",
       "version_major": 2,
       "version_minor": 0
      },
      "text/plain": [
       "Validation: |          | 0/? [00:00<?, ?it/s]"
      ]
     },
     "metadata": {},
     "output_type": "display_data"
    },
    {
     "data": {
      "application/vnd.jupyter.widget-view+json": {
       "model_id": "af77d4cd5e3c41628c7caba9e37f3ebb",
       "version_major": 2,
       "version_minor": 0
      },
      "text/plain": [
       "Validation: |          | 0/? [00:00<?, ?it/s]"
      ]
     },
     "metadata": {},
     "output_type": "display_data"
    },
    {
     "data": {
      "application/vnd.jupyter.widget-view+json": {
       "model_id": "c801b36da2934dd88fad96958573e7eb",
       "version_major": 2,
       "version_minor": 0
      },
      "text/plain": [
       "Validation: |          | 0/? [00:00<?, ?it/s]"
      ]
     },
     "metadata": {},
     "output_type": "display_data"
    },
    {
     "data": {
      "application/vnd.jupyter.widget-view+json": {
       "model_id": "6d2344948d404fad892cb418cb5dd5d6",
       "version_major": 2,
       "version_minor": 0
      },
      "text/plain": [
       "Validation: |          | 0/? [00:00<?, ?it/s]"
      ]
     },
     "metadata": {},
     "output_type": "display_data"
    },
    {
     "data": {
      "application/vnd.jupyter.widget-view+json": {
       "model_id": "6e4836f5adcd4f71a8b1313f5a5c722b",
       "version_major": 2,
       "version_minor": 0
      },
      "text/plain": [
       "Validation: |          | 0/? [00:00<?, ?it/s]"
      ]
     },
     "metadata": {},
     "output_type": "display_data"
    },
    {
     "data": {
      "application/vnd.jupyter.widget-view+json": {
       "model_id": "b6aa6e57c5394165976b335cc9d63116",
       "version_major": 2,
       "version_minor": 0
      },
      "text/plain": [
       "Validation: |          | 0/? [00:00<?, ?it/s]"
      ]
     },
     "metadata": {},
     "output_type": "display_data"
    },
    {
     "data": {
      "application/vnd.jupyter.widget-view+json": {
       "model_id": "20645ddaf5964882be3794d7f28425f6",
       "version_major": 2,
       "version_minor": 0
      },
      "text/plain": [
       "Validation: |          | 0/? [00:00<?, ?it/s]"
      ]
     },
     "metadata": {},
     "output_type": "display_data"
    },
    {
     "data": {
      "application/vnd.jupyter.widget-view+json": {
       "model_id": "cbb3829fe3b0441b8369ac491212425e",
       "version_major": 2,
       "version_minor": 0
      },
      "text/plain": [
       "Validation: |          | 0/? [00:00<?, ?it/s]"
      ]
     },
     "metadata": {},
     "output_type": "display_data"
    },
    {
     "data": {
      "application/vnd.jupyter.widget-view+json": {
       "model_id": "cd4acef0b544468690c7b1d644b9069e",
       "version_major": 2,
       "version_minor": 0
      },
      "text/plain": [
       "Validation: |          | 0/? [00:00<?, ?it/s]"
      ]
     },
     "metadata": {},
     "output_type": "display_data"
    },
    {
     "data": {
      "application/vnd.jupyter.widget-view+json": {
       "model_id": "adaf9488cf694beebec5f43b3a56c966",
       "version_major": 2,
       "version_minor": 0
      },
      "text/plain": [
       "Validation: |          | 0/? [00:00<?, ?it/s]"
      ]
     },
     "metadata": {},
     "output_type": "display_data"
    },
    {
     "name": "stdout",
     "output_type": "stream",
     "text": [
      "保存模型到: ./tb_logs/improved_model/19-15_cos.ckpt\n",
      "在测试集上评估模型...\n",
      "分类报告:\n",
      "              precision    recall  f1-score   support\n",
      "\n",
      "  Background       0.97      0.97      0.97     10000\n",
      "      Signal       0.98      0.98      0.98     20000\n",
      "\n",
      "    accuracy                           0.98     30000\n",
      "   macro avg       0.98      0.98      0.98     30000\n",
      "weighted avg       0.98      0.98      0.98     30000\n",
      "\n",
      "测试集AUC: 0.9979\n"
     ]
    },
    {
     "data": {
      "image/png": "[encoded data removed]",
      "text/plain": [
       "<Figure size 800x600 with 1 Axes>"
      ]
     },
     "metadata": {},
     "output_type": "display_data"
    },
    {
     "name": "stdout",
     "output_type": "stream",
     "text": [
      "训练完成，测试集AUC: 0.9979\n"
     ]
    }
   ],
   "source": [
    "# 使用已经定义的df数据框架(而不是未定义的df1)\n",
    "# 确保input_columns和target_column已经定义\n",
    "\n",
    "# 如果尚未定义，可以定义如下：\n",
    "input_columns = ['jet_pt1', 'jet_eta1', 'jet_phi1', 'jet_mass1', 'jet_pt2', \n",
    "                'jet_eta2', 'jet_phi2', 'jet_mass2', 'jet_deta12', 'jet_dphi12',\n",
    "                'jet_inv_mass', 'jet_dR12', 'jet_aT']\n",
    "target_column = 'label_is_sig'\n",
    "\n",
    "# 定义模型保存路径\n",
    "model_path = \"./tb_logs/improved_model/19-15_cos.ckpt\"\n",
    "\n",
    "# 调用改进的训练函数\n",
    "import model_training_cosine_annealing as mtca\n",
    "\n",
    "# 调用改进的训练函数\n",
    "model, auc = mtca.train_model(\n",
    "    df=df,  # 使用已经定义好的df，而不是df1\n",
    "    input_columns=input_columns,\n",
    "    target_column=target_column,\n",
    "    model_path=model_path,\n",
    "    max_epochs=50,\n",
    "    batch_size=128\n",
    ")\n",
    "\n",
    "print(f\"训练完成，测试集AUC: {auc:.4f}\")\n"
   ]
  },
  {
   "cell_type": "code",
   "execution_count": 17,
   "id": "c8400b16",
   "metadata": {},
   "outputs": [
    {
     "name": "stdout",
     "output_type": "stream",
     "text": [
      "目标列类别分布:\n",
      "label_is_sig\n",
      "1    0.666667\n",
      "0    0.333333\n",
      "Name: proportion, dtype: float64\n",
      "检查数据中的NaN值...\n",
      "警告: 输入数据中包含NaN值，将替换为0\n",
      "标准化数据...\n",
      "检查类别不平衡...\n",
      "目标列包含两个类别，将使用分层抽样\n",
      "数据预处理完成\n"
     ]
    },
    {
     "data": {
      "image/png": "[encoded data removed]",
      "text/plain": [
       "<Figure size 800x600 with 1 Axes>"
      ]
     },
     "metadata": {},
     "output_type": "display_data"
    }
   ],
   "source": [
    "\n",
    "import torch\n",
    "import numpy as np\n",
    "import pandas as pd\n",
    "import matplotlib.pyplot as plt\n",
    "from sklearn.metrics import roc_curve, auc\n",
    "from sklearn.model_selection import train_test_split\n",
    "import model_training_improved as mti\n",
    "import torch.nn.functional as F\n",
    "\n",
    "# 假设您已经有了以下变量:\n",
    "# df: 完整数据集\n",
    "# input_columns: 输入特征列名列表\n",
    "# target_column: 目标列名\n",
    "# model_path: 模型路径\n",
    "\n",
    "# 数据预处理\n",
    "df_processed = mti.preprocess_data(df, input_columns, target_column)\n",
    "trans_columns = [c + '_trans' for c in input_columns]\n",
    "\n",
    "# 分割数据集\n",
    "_, test_df = train_test_split(\n",
    "    df_processed,\n",
    "    test_size=0.2,\n",
    "    random_state=42,\n",
    "    stratify=df_processed[target_column]\n",
    ")\n",
    "\n",
    "# 创建测试集数据集\n",
    "test_dataset = mti.DataFrameDataset(test_df, trans_columns, target_column)\n",
    "test_loader = torch.utils.data.DataLoader(test_dataset, batch_size=128, shuffle=False)\n",
    "\n",
    "# 加载训练好的模型\n",
    "model_path = \"./tb_logs/improved_model/16-56.ckpt\"  # 使用您实际的模型路径\n",
    "model = mti.ImprovedMLP(input_size=len(input_columns), hidden_size=128, output_size=2)\n",
    "\n",
    "# 加载模型权重\n",
    "checkpoint = torch.load(model_path)\n",
    "model.load_state_dict(checkpoint['state_dict'])\n",
    "model.eval()\n",
    "\n",
    "# 使用测试集进行预测\n",
    "all_labels = []\n",
    "all_probs = []\n",
    "\n",
    "with torch.no_grad():\n",
    "    for inputs, labels in test_loader:\n",
    "        outputs = model(inputs)\n",
    "        probs = F.softmax(outputs, dim=1)\n",
    "        pos_probs = probs[:, 1].numpy()\n",
    "        all_labels.extend(labels.numpy())\n",
    "        all_probs.extend(pos_probs)\n",
    "\n",
    "all_labels = np.array(all_labels)\n",
    "all_probs = np.array(all_probs)\n",
    "\n",
    "# 计算ROC曲线\n",
    "fpr_z, tpr_z, thresholds = roc_curve(all_labels, all_probs)\n",
    "roc_auc = auc(fpr_z, tpr_z)\n",
    "\n",
    "# 绘制对数刻度的ROC曲线\n",
    "plt.figure(figsize=(8, 6))\n",
    "plt.semilogy(fpr_z, tpr_z, label=f'ROC curve (AUC = {roc_auc:.4f})')\n",
    "plt.plot([1e-5, 1], [1e-5, 1], 'k--')  # 对角线\n",
    "plt.xlim([0.001, 1.0])  # 设置x轴范围，避免0值\n",
    "plt.ylim([1e-5, 1.0])  # 设置y轴范围，避免0值\n",
    "plt.xlabel('False Positive Rate (FPR)')\n",
    "plt.ylabel('Ture Positive Rate (TPR)')\n",
    "plt.title('log scale ROC curve')\n",
    "plt.legend(loc='lower right')\n",
    "# plt.grid(True, which=\"both\", ls=\"--\")\n",
    "plt.show()\n"
   ]
  },
  {
   "cell_type": "code",
   "execution_count": 38,
   "id": "3cd7b230",
   "metadata": {},
   "outputs": [
    {
     "name": "stdout",
     "output_type": "stream",
     "text": [
      "目标列类别分布:\n",
      "label_is_sig\n",
      "1    0.666667\n",
      "0    0.333333\n",
      "Name: proportion, dtype: float64\n",
      "检查数据中的NaN值...\n",
      "警告: 输入数据中包含NaN值，将替换为0\n",
      "标准化数据...\n",
      "检查类别不平衡...\n",
      "目标列包含两个类别，将使用分层抽样\n",
      "数据预处理完成\n",
      "模型 4L simple cos_anl 的输入特征大小: 13\n",
      "成功加载模型 4L simple cos_anl\n",
      "模型 3L 的输入特征大小: 10\n",
      "成功加载模型 3L\n",
      "模型 4L cos_anl 的输入特征大小: 13\n",
      "成功加载模型 4L cos_anl\n",
      "模型 3L simple cos_anl 的输入特征大小: 10\n",
      "成功加载模型 3L simple cos_anl\n"
     ]
    },
    {
     "data": {
      "image/png": "[encoded data removed]",
      "text/plain": [
       "<Figure size 1000x800 with 1 Axes>"
      ]
     },
     "metadata": {},
     "output_type": "display_data"
    }
   ],
   "source": [
    "\n",
    "import torch\n",
    "import numpy as np\n",
    "import pandas as pd\n",
    "import matplotlib.pyplot as plt\n",
    "from sklearn.metrics import roc_curve, auc\n",
    "from sklearn.model_selection import train_test_split\n",
    "import model_training_improved as mti\n",
    "import torch.nn.functional as F\n",
    "import pytorch_lightning as L\n",
    "from torch import nn\n",
    "import torchmetrics\n",
    "import os\n",
    "\n",
    "# 定义基础MLP模型类\n",
    "class SimpleMLP(L.LightningModule):\n",
    "    def __init__(self, input_size, hidden_size, output_size):\n",
    "        super(SimpleMLP, self).__init__()\n",
    "        self.layer1 = nn.Linear(input_size, hidden_size)   # 第一层全连接层\n",
    "        self.layer2 = nn.Linear(hidden_size, hidden_size)  # 第二层全连接层\n",
    "        self.layer3 = nn.Linear(hidden_size, output_size)  # 输出层\n",
    "\n",
    "        self.train_acc = torchmetrics.Accuracy(task=\"multiclass\", num_classes=output_size)  # 训练准确率指标\n",
    "        self.val_acc = torchmetrics.Accuracy(task=\"multiclass\", num_classes=output_size)    # 验证准确率指标\n",
    "\n",
    "    def forward(self, x):\n",
    "        # 前向传播：输入 -> relu -> 隐藏层 -> relu -> 输出\n",
    "        x = F.relu(self.layer1(x))\n",
    "        x = F.relu(self.layer2(x))\n",
    "        x = self.layer3(x)\n",
    "        return x\n",
    "\n",
    "    def training_step(self, batch, batch_idx):\n",
    "        # 定义每个训练批次的操作\n",
    "        x, y = batch\n",
    "        logits = self(x)\n",
    "        loss = F.cross_entropy(logits, y)\n",
    "        self.train_acc(logits, y)\n",
    "        # 记录训练损失和准确率\n",
    "        self.log('train_loss', loss)\n",
    "        self.log('train_acc', self.train_acc, on_step=False, on_epoch=True)\n",
    "        return loss\n",
    "\n",
    "    def validation_step(self, batch, batch_idx):\n",
    "        # 定义每个验证批次的操作\n",
    "        x, y = batch\n",
    "        logits = self(x)\n",
    "        loss = F.cross_entropy(logits, y)\n",
    "        self.val_acc(logits, y)\n",
    "        # 记录验证损失和准确率\n",
    "        self.log('val_loss', loss)\n",
    "        self.log('val_acc', self.val_acc, on_step=False, on_epoch=True)\n",
    "        return loss\n",
    "\n",
    "    def configure_optimizers(self):\n",
    "        # 设置优化器和学习率调度器\n",
    "        optimizer = torch.optim.Adam(self.parameters(), lr=0.001)\n",
    "        return optimizer\n",
    "\n",
    "# 假设您已经有了以下变量:\n",
    "# df: 完整数据集\n",
    "# input_columns: 输入特征列名列表\n",
    "# target_column: 目标列名\n",
    "\n",
    "# 定义模型列表，每个模型包含名称、路径和线条样式\n",
    "models_info = [\n",
    "    {\n",
    "        \"name\": \"4L simple cos_anl\",\n",
    "        \"path\": \"./tb_logs/improved_model/16-56.ckpt\",\n",
    "        \"color\": \"darkorange\",\n",
    "        \"linestyle\": \"-\",\n",
    "        \"model_class\": mti.ImprovedMLP,\n",
    "        \"model_args\": {\"hidden_size\": 128, \"output_size\": 2}\n",
    "    },\n",
    "    {\n",
    "        \"name\": \"3L\",\n",
    "        \"path\": \"./tb_logs/simple_mlp_zprime/version_5/checkpoints/epoch=49-step=11750.ckpt\",\n",
    "        \"color\": \"blue\",\n",
    "        \"linestyle\": \"--\",\n",
    "        \"model_class\": SimpleMLP,\n",
    "        \"model_args\": {\"hidden_size\": 64, \"output_size\": 2}\n",
    "    },\n",
    "    {\n",
    "        \"name\": \"4L cos_anl\",\n",
    "        \"path\": \"./tb_logs/improved_model/19-15_cos.ckpt\",\n",
    "        \"color\": \"green\",\n",
    "        \"linestyle\": \"-.\",\n",
    "        \"model_class\": mtca.ImprovedMLPWithCosineAnnealing,\n",
    "        \"model_args\": {\"hidden_size\": 128, \"output_size\": 2}\n",
    "    },\n",
    "    {\n",
    "        \"name\": \"3L simple cos_anl\",\n",
    "        \"path\": \"./tb_logs/simple_mlp_zprime_new_cos_anl/version_1/checkpoints/epoch=49-step=11750.ckpt\",\n",
    "        \"color\": \"red\",\n",
    "        \"linestyle\": \":\",\n",
    "        \"model_class\": SimpleMLP,\n",
    "        \"model_args\": {\"hidden_size\": 64, \"output_size\": 2}\n",
    "    }\n",
    "    # 可以继续添加更多模型\n",
    "]\n",
    "\n",
    "# 数据预处理\n",
    "df_processed = mti.preprocess_data(df, input_columns, target_column)\n",
    "trans_columns = [c + '_trans' for c in input_columns]\n",
    "\n",
    "# 分割数据集\n",
    "_, test_df = train_test_split(\n",
    "    df_processed,\n",
    "    test_size=0.2,\n",
    "    random_state=42,\n",
    "    stratify=df_processed[target_column]\n",
    ")\n",
    "\n",
    "# 创建测试集数据集\n",
    "test_dataset = mti.DataFrameDataset(test_df, trans_columns, target_column)\n",
    "test_loader = torch.utils.data.DataLoader(test_dataset, batch_size=128, shuffle=False)\n",
    "\n",
    "# 获取真实标签\n",
    "all_labels = []\n",
    "with torch.no_grad():\n",
    "    for _, labels in test_loader:\n",
    "        all_labels.extend(labels.numpy())\n",
    "all_labels = np.array(all_labels)\n",
    "\n",
    "# 创建图形\n",
    "plt.figure(figsize=(10, 8))\n",
    "\n",
    "# 为每个模型绘制ROC曲线\n",
    "for model_info in models_info:\n",
    "    model_path = model_info[\"path\"]\n",
    "\n",
    "    # 首先检查检查点文件是否存在\n",
    "    if not os.path.exists(model_path):\n",
    "        print(f\"模型文件不存在: {model_path}\")\n",
    "        continue\n",
    "\n",
    "    # 加载检查点以获取模型参数信息\n",
    "    try:\n",
    "        checkpoint = torch.load(model_path, map_location=torch.device('cpu'))\n",
    "\n",
    "        # 处理不同的checkpoint格式\n",
    "        if \"state_dict\" in checkpoint:\n",
    "            state_dict = checkpoint[\"state_dict\"]\n",
    "        else:\n",
    "            state_dict = checkpoint\n",
    "\n",
    "        # 处理键名不匹配问题（前缀差异）\n",
    "        new_state_dict = {}\n",
    "        for k, v in state_dict.items():\n",
    "            if k.startswith(\"model.\"):\n",
    "                k = k[6:]  # 移除\"model.\"前缀\n",
    "            new_state_dict[k] = v\n",
    "\n",
    "        # 确定输入特征大小\n",
    "        if \"layer1.weight\" in new_state_dict:\n",
    "            input_size = new_state_dict[\"layer1.weight\"].shape[1]\n",
    "            print(f\"模型 {model_info['name']} 的输入特征大小: {input_size}\")\n",
    "        else:\n",
    "            print(f\"无法确定模型 {model_info['name']} 的输入特征大小，使用默认值\")\n",
    "            input_size = len(input_columns)\n",
    "\n",
    "        # 根据检测到的输入大小创建模型\n",
    "        model_class = model_info[\"model_class\"]\n",
    "        model_args = model_info[\"model_args\"].copy()\n",
    "        model_args[\"input_size\"] = input_size\n",
    "\n",
    "        model = model_class(**model_args)\n",
    "\n",
    "        # 尝试加载state_dict\n",
    "        try:\n",
    "            model.load_state_dict(new_state_dict)\n",
    "            print(f\"成功加载模型 {model_info['name']}\")\n",
    "        except Exception as e:\n",
    "            print(f\"直接加载失败: {e}\")\n",
    "            # 如果直接加载失败，尝试部分加载\n",
    "            model_state_dict = model.state_dict()\n",
    "            pretrained_dict = {k: v for k, v in new_state_dict.items() if k in model_state_dict}\n",
    "            print(f\"加载了 {len(pretrained_dict)}/{len(model_state_dict)} 个参数\")\n",
    "            model.load_state_dict(pretrained_dict, strict=False)\n",
    "\n",
    "    except Exception as e:\n",
    "        print(f\"加载模型 {model_info['name']} 失败: {e}\")\n",
    "        continue\n",
    "\n",
    "    model.eval()\n",
    "\n",
    "    # 使用测试集进行预测\n",
    "    all_probs = []\n",
    "    with torch.no_grad():\n",
    "        for inputs, _ in test_loader:\n",
    "            # 确保输入维度正确\n",
    "            if inputs.shape[1] != input_size:\n",
    "                # 如果输入维度不匹配，进行截断或填充\n",
    "                if inputs.shape[1] > input_size:\n",
    "                    inputs = inputs[:, :input_size]\n",
    "                else:\n",
    "                    pad = torch.zeros((inputs.shape[0], input_size - inputs.shape[1]))\n",
    "                    inputs = torch.cat([inputs, pad], dim=1)\n",
    "\n",
    "            outputs = model(inputs)\n",
    "            probs = F.softmax(outputs, dim=1)\n",
    "            pos_probs = probs[:, 1].numpy()\n",
    "            all_probs.extend(pos_probs)\n",
    "\n",
    "    all_probs = np.array(all_probs)\n",
    "\n",
    "    # 计算ROC曲线\n",
    "    fpr, tpr, thresholds = roc_curve(all_labels, all_probs)\n",
    "    roc_auc = auc(fpr, tpr)\n",
    "\n",
    "    # 绘制ROC曲线\n",
    "    plt.semilogy(tpr, fpr, \n",
    "                color=model_info[\"color\"], \n",
    "                linestyle=model_info[\"linestyle\"],\n",
    "                lw=2,\n",
    "                label=f'{model_info[\"name\"]} (AUC = {roc_auc:.4f})')\\\n",
    "    \n",
    "    # 生成随机分类器的点\n",
    "    random_fpr = np.logspace(-5, 0, 100)  # 在对数空间中均匀采样\n",
    "    random_tpr = random_fpr  # 随机分类器满足 TPR = FPR\n",
    "    plt.semilogy(random_tpr, random_fpr, 'k--', lw=2, label='Random')\n",
    "\n",
    "\n",
    "\n",
    "\n",
    "# 设置图形属性\n",
    "plt.xlim([1e-5, 1.0])  # 设置x轴范围，避免0值\n",
    "plt.ylim([1e-5, 1.0])  # 设置y轴范围，避免0值\n",
    "plt.xlabel('False Positive Rate (FPR)', fontsize=12)\n",
    "plt.ylabel('True Positive Rate (TPR)', fontsize=12)\n",
    "plt.title('log scale ROC curves', fontsize=14)\n",
    "plt.legend(loc='lower right', fontsize=10)\n",
    "# plt.grid(True, which=\"both\", ls=\"--\", alpha=0.7)\n",
    "plt.tight_layout()\n",
    "plt.savefig('multi_model_roc_curve.png', dpi=300, bbox_inches='tight')\n",
    "plt.show()\n"
   ]
  },
  {
   "cell_type": "code",
   "execution_count": null,
   "id": "1261a3ac",
   "metadata": {},
   "outputs": [],
   "source": []
  },
  {
   "cell_type": "code",
   "execution_count": null,
   "id": "d50898c8",
   "metadata": {},
   "outputs": [],
   "source": [
    "path_old = \"tb_logs/simple_mlp_zprime/version_4/checkpoints/epoch=49-step=11750.ckpt\""
   ]
  },
  {
   "cell_type": "code",
   "execution_count": 67,
   "metadata": {},
   "outputs": [
    {
     "name": "stdout",
     "output_type": "stream",
     "text": [
      "找到 0 个模型\n"
     ]
    },
    {
     "data": {
      "image/png": "[encoded data removed]",
      "text/plain": [
       "<Figure size 1000x800 with 1 Axes>"
      ]
     },
     "metadata": {},
     "output_type": "display_data"
    }
   ],
   "source": [
    "import pandas as pd\n",
    "from sklearn.model_selection import train_test_split\n",
    "import numpy as np\n",
    "import uproot as r\n",
    "import awkward as ak\n",
    "from plot_multiple_roc import plot_multiple_roc_curves, get_model_configs, DataFrameDataset\n",
    "\n",
    "# 1. 加载ROOT文件并处理数据\n",
    "def read_arrays(file_path):\n",
    "    \"\"\"\n",
    "    从ROOT文件中读取数组\n",
    "    \"\"\"\n",
    "    f = r.open(file_path)\n",
    "    tree = f[\"Delphes\"]\n",
    "    \n",
    "    # 读取喷注特征作为可变长度数组（用零填充）\n",
    "    jet_pt = ak.fill_none(ak.pad_none(tree[\"Jet.PT\"].array(), 4, axis=1), 0)\n",
    "    jet_eta = ak.fill_none(ak.pad_none(tree[\"Jet.Eta\"].array(), 4, axis=1), 0)\n",
    "    jet_phi = ak.fill_none(ak.pad_none(tree[\"Jet.Phi\"].array(), 4, axis=1), 0)\n",
    "    jet_mass = ak.fill_none(ak.pad_none(tree[\"Jet.Mass\"].array(), 4, axis=1), 0)\n",
    "    \n",
    "    # 构建喷注特征的DataFrame\n",
    "    df = pd.DataFrame({\n",
    "        \"jet_pt1\": jet_pt[:, 0],\n",
    "        \"jet_eta1\": jet_eta[:, 0],\n",
    "        \"jet_phi1\": jet_phi[:, 0],\n",
    "        \"jet_mass1\": jet_mass[:, 0],\n",
    "        \"jet_pt2\": jet_pt[:, 1],\n",
    "        \"jet_eta2\": jet_eta[:, 1],\n",
    "        \"jet_phi2\": jet_phi[:, 1],\n",
    "        \"jet_mass2\": jet_mass[:, 1],\n",
    "    })\n",
    "    \n",
    "    # 构建其他喷注变量\n",
    "    df[\"jet_deta12\"] = abs(df[\"jet_eta1\"] - df[\"jet_eta2\"])\n",
    "    df['jet_dphi12'] = (df['jet_phi1'] - df['jet_phi2']) % (2 * np.pi)  # 限制在[0, 2pi]范围内\n",
    "    \n",
    "    # 计算新物理变量\n",
    "    df['jet_E1'] = np.sqrt(df['jet_pt1']**2 * np.cosh(df['jet_eta1'])**2 + df['jet_mass1']**2)\n",
    "    df['jet_E2'] = np.sqrt(df['jet_pt2']**2 * np.cosh(df['jet_eta2'])**2 + df['jet_mass2']**2)\n",
    "    \n",
    "    # 喷注对不变量质量\n",
    "    df['jet_inv_mass'] = np.sqrt((df['jet_E1'] + df['jet_E2'])**2 - \n",
    "                                (df['jet_pt1']*np.sinh(df['jet_eta1']) + df['jet_pt2']*np.sinh(df['jet_eta2']))**2 - \n",
    "                                (df['jet_pt1']*np.cos(df['jet_phi1']) + df['jet_pt2']*np.cos(df['jet_phi2']))**2)\n",
    "    \n",
    "    # 角度差\n",
    "    df['jet_dR12'] = np.sqrt((df['jet_eta1'] - df['jet_eta2'])**2 + \n",
    "                            (df['jet_phi1'] - df['jet_phi2'])**2)\n",
    "    \n",
    "    # 横向动量不对称性\n",
    "    df['jet_aT'] = np.abs(df['jet_pt1'] - df['jet_pt2']) / (df['jet_pt1'] + df['jet_pt2'])\n",
    "    \n",
    "    return df\n",
    "\n",
    "# 2. 准备数据\n",
    "# 定义输入特征列\n",
    "input_columns = ['jet_pt1', 'jet_eta1', 'jet_phi1', 'jet_mass1', 'jet_pt2', \n",
    "                'jet_eta2', 'jet_phi2', 'jet_mass2', 'jet_deta12', 'jet_dphi12',\n",
    "                'jet_inv_mass', 'jet_dR12', 'jet_aT']\n",
    "\n",
    "# 加载信号和背景数据\n",
    "# 注意：您需要根据实际情况修改这些文件路径\n",
    "signal_df = read_arrays(\"data/delphes_zprime_1TeV.root\")\n",
    "background_df = read_arrays(\"data/delphes_multijet.root\")\n",
    "\n",
    "# 添加标签（信号为1，背景为0）\n",
    "signal_df['label_is_sig'] = 1\n",
    "background_df['label_is_sig'] = 0\n",
    "\n",
    "# 合并数据\n",
    "df = pd.concat([signal_df, background_df], ignore_index=True)\n",
    "\n",
    "# 分割数据集\n",
    "train_df, test_df = train_test_split(df, test_size=0.2, random_state=42)\n",
    "val_df, test_df = train_test_split(test_df, test_size=0.5, random_state=42)\n",
    "\n",
    "# 创建测试数据集和数据加载器\n",
    "test_dataset = DataFrameDataset(test_df, input_columns, 'label_is_sig')\n",
    "test_loader = DataLoader(test_dataset, batch_size=256, num_workers=4)\n",
    "\n",
    "# 3. 从tb_logs目录获取模型配置\n",
    "tb_logs_dir = \"iSTEP_2025_SupervisedLearning/ml-tutorial-2025-08-istep/tb_logs/simple_mlp_zprime\"\n",
    "model_configs = get_model_configs(tb_logs_dir)\n",
    "print(f\"找到 {len(model_configs)} 个模型\")\n",
    "\n",
    "# 4. 绘制多个模型的ROC曲线\n",
    "plot_multiple_roc_curves(model_configs, test_loader)\n"
   ]
  },
  {
   "cell_type": "code",
   "execution_count": null,
   "id": "cf6423b4",
   "metadata": {},
   "outputs": [],
   "source": [
    "path_old = \"tb_logs/simple_mlp_zprime/version_4/checkpoints/epoch=49-step=11750.ckpt\""
   ]
  },
  {
   "cell_type": "code",
   "execution_count": null,
   "id": "070001bb",
   "metadata": {},
   "outputs": [],
   "source": [
    "path_old = \"tb_logs/simple_mlp_zprime/version_4/checkpoints/epoch=49-step=11750.ckpt\""
   ]
  },
  {
   "cell_type": "code",
   "execution_count": null,
   "id": "5578670d",
   "metadata": {},
   "outputs": [],
   "source": [
    "path_old = \"tb_logs/simple_mlp_zprime/version_4/checkpoints/epoch=49-step=11750.ckpt\""
   ]
  },
  {
   "cell_type": "code",
   "execution_count": null,
   "id": "bd0ed4f9",
   "metadata": {},
   "outputs": [],
   "source": [
    "path_old = \"tb_logs/simple_mlp_zprime/version_4/checkpoints/epoch=49-step=11750.ckpt\""
   ]
  },
  {
   "cell_type": "code",
   "execution_count": null,
   "id": "406585cd",
   "metadata": {},
   "outputs": [],
   "source": [
    "path_old = \"tb_logs/simple_mlp_zprime/version_4/checkpoints/epoch=49-step=11750.ckpt\""
   ]
  },
  {
   "cell_type": "code",
   "execution_count": null,
   "metadata": {},
   "outputs": [],
   "source": []
  },
  {
   "cell_type": "code",
   "execution_count": null,
   "id": "31bb82f9",
   "metadata": {},
   "outputs": [],
   "source": [
    "path_old = \"tb_logs/simple_mlp_zprime/version_4/checkpoints/epoch=49-step=11750.ckpt\""
   ]
  },
  {
   "cell_type": "code",
   "execution_count": null,
   "id": "6a64da70",
   "metadata": {},
   "outputs": [],
   "source": [
    "path_old = \"tb_logs/simple_mlp_zprime/version_4/checkpoints/epoch=49-step=11750.ckpt\""
   ]
  },
  {
   "cell_type": "code",
   "execution_count": null,
   "metadata": {},
   "outputs": [],
   "source": []
  },
  {
   "cell_type": "code",
   "execution_count": null,
   "metadata": {},
   "outputs": [],
   "source": []
  },
  {
   "cell_type": "code",
   "execution_count": null,
   "metadata": {},
   "outputs": [],
   "source": []
  },
  {
   "cell_type": "code",
   "execution_count": null,
   "metadata": {},
   "outputs": [],
   "source": []
  },
  {
   "cell_type": "code",
   "execution_count": null,
   "metadata": {},
   "outputs": [],
   "source": []
  },
  {
   "cell_type": "code",
   "execution_count": null,
   "metadata": {},
   "outputs": [],
   "source": []
  },
  {
   "cell_type": "code",
   "execution_count": null,
   "metadata": {},
   "outputs": [],
   "source": []
  }
 ],
 "metadata": {
  "kernelspec": {
   "display_name": "base",
   "language": "python",
   "name": "python3"
  },
  "language_info": {
   "codemirror_mode": {
    "name": "ipython",
    "version": 3
   },
   "file_extension": ".py",
   "mimetype": "text/x-python",
   "name": "python",
   "nbconvert_exporter": "python",
   "pygments_lexer": "ipython3",
   "version": "3.12.7"
  }
 },
 "nbformat": 4,
 "nbformat_minor": 5
}
