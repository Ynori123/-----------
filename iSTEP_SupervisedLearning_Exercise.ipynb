{
 "cells": [
  {
   "cell_type": "markdown",
   "id": "e155e9d5",
   "metadata": {},
   "source": [
    "# Machine Learning in Particle Physics (Supervised Learning) — Exercise\n",
    "\n",
    "In this notebook, you will apply the knowledge gained from the supervised learning hands-on session (see `iSTEP_SupervisedLearning_HandsOn.ipynb`) to complete the following exercise.\n",
    "\n",
    "## Exercise overview\n",
    "\n",
    "For this exercise, we will use a toy example rooted in physics: searching for heavier vector bosons at the LHC, specifically the Z' (Z-prime). When Z' decays into a quark-antiquark pair, it produces dijet events. However, this signal can easily be confused with the multijet background from QCD processes, which can also generate dijet events through mechanisms such as gluon splitting into two quarks or one quark and one gluon. This example will utilize the $Z' \\to qq$ signal and the QCD multijet background as the context for exploring how to train more effective machine learning models in a supervised learning scenario.\n",
    "\n",
    "As a preview, this exercise has two branches, and your team can choose one as the focus for your research. Here is an overview of each:\n",
    "\n",
    "- **A. Physics strategy for using AI:** Investigate how to construct physics variables that can enhance classification performance. How do models trained on samples from specific Z' mass points perform when tested on samples from other Z' mass points?\n",
    "\n",
    "- **B. AI engineering:** Explore how optimizing neural network design and training (such as adding more layers to the DNN, switching to transformer networks as a backbone, and tuning the learning rate and training epochs) can improve classification performance.\n",
    "\n",
    "### About the presentation\n",
    "\n",
    "In Saturday's presentation, you can consider following this structure to introduce your research:\n",
    "\n",
    "- Briefly explain the physics motivation behind Z' physics (you may refer to this theoretical review: [arXiv:0801.1345](https://arxiv.org/abs/0801.1345)).\n",
    "- Introduce the dataset and display the distributions of some relevant variables.\n",
    "- Focus on A/B to deliver your research (the programs for generating these basic plots are available in the hands-on notebook and this notebook, but feel free to include additional plots based on your insights!)\n",
    "- Present your research conclusions.\n",
    "\n",
    "Finally, remember to establish reasonable team divisions and effectively utilize AI tools (for understanding literature, comprehending code, modifying or writing code, etc).\n",
    "\n",
    "Let's get started!\n"
   ]
  },
  {
   "cell_type": "markdown",
   "id": "17f1dc1b",
   "metadata": {},
   "source": [
    "## Analyzing the Z' dataset\n",
    "\n",
    "The provided example of $Z' \\to qq$ includes four Z' mass points: 1, 1.5, 2, and 2.5 TeV. Each mass point is stored in one root file, with each file containing 50,000 events. The QCD multijet process is stored in one file, containing 100,000 events."
   ]
  },
  {
   "cell_type": "code",
   "execution_count": 1,
   "id": "b71fe2a2",
   "metadata": {},
   "outputs": [],
   "source": [
    "import numpy as np\n",
    "import pandas as pd\n",
    "import uproot as r\n",
    "import awkward as ak\n",
    "import matplotlib.pyplot as plt"
   ]
  },
  {
   "cell_type": "code",
   "execution_count": 2,
   "id": "0a52a7be",
   "metadata": {},
   "outputs": [],
   "source": [
    "def read_arrays(file_path):\n",
    "    \"\"\"\n",
    "    Read arrays from a ROOT file.\n",
    "    \"\"\"\n",
    "    import uproot as r\n",
    "    f = r.open(file_path)\n",
    "    tree = f[\"Delphes\"]\n",
    "\n",
    "    # read jet features as variable-length arrays (padded with zeros)\n",
    "    jet_pt = ak.fill_none(ak.pad_none(tree[\"Jet.PT\"].array(), 4, axis=1), 0)\n",
    "    jet_eta = ak.fill_none(ak.pad_none(tree[\"Jet.Eta\"].array(), 4, axis=1), 0)\n",
    "    jet_phi = ak.fill_none(ak.pad_none(tree[\"Jet.Phi\"].array(), 4, axis=1), 0)\n",
    "    jet_mass = ak.fill_none(ak.pad_none(tree[\"Jet.Mass\"].array(), 4, axis=1), 0)\n",
    "\n",
    "    # build jet features as a dataframe\n",
    "    df = pd.DataFrame({\n",
    "        \"jet_pt1\": jet_pt[:, 0],\n",
    "        \"jet_eta1\": jet_eta[:, 0],\n",
    "        \"jet_phi1\": jet_phi[:, 0],\n",
    "        \"jet_mass1\": jet_mass[:, 0],\n",
    "        \"jet_pt2\": jet_pt[:, 1],\n",
    "        \"jet_eta2\": jet_eta[:, 1],\n",
    "        \"jet_phi2\": jet_phi[:, 1],\n",
    "        \"jet_mass2\": jet_mass[:, 1],\n",
    "        # \"jet_pt3\": jet_pt[:, 2],\n",
    "        # \"jet_eta3\": jet_eta[:, 2],\n",
    "        # \"jet_phi3\": jet_phi[:, 2],\n",
    "        # 'jet_mass3': jet_mass[:, 2],\n",
    "    })\n",
    "    # build other jet variables\n",
    "    df[\"jet_deta12\"] = abs(df[\"jet_eta1\"] - df[\"jet_eta2\"])\n",
    "    df['jet_dphi12'] = (df['jet_phi1'] - df['jet_phi2']) % (2 * np.pi)  # constrain to [0, 2pi]\n",
    "    return df"
   ]
  },
  {
   "cell_type": "markdown",
   "id": "c9c756c7",
   "metadata": {},
   "source": [
    "Reminder: Copy the following files from the previous session into the `data/` directory."
   ]
  },
  {
   "cell_type": "code",
   "execution_count": 3,
   "id": "731091c7",
   "metadata": {},
   "outputs": [
    {
     "data": {
      "text/html": [
       "<div>\n",
       "<style scoped>\n",
       "    .dataframe tbody tr th:only-of-type {\n",
       "        vertical-align: middle;\n",
       "    }\n",
       "\n",
       "    .dataframe tbody tr th {\n",
       "        vertical-align: top;\n",
       "    }\n",
       "\n",
       "    .dataframe thead th {\n",
       "        text-align: right;\n",
       "    }\n",
       "</style>\n",
       "<table border=\"1\" class=\"dataframe\">\n",
       "  <thead>\n",
       "    <tr style=\"text-align: right;\">\n",
       "      <th></th>\n",
       "      <th>jet_pt1</th>\n",
       "      <th>jet_eta1</th>\n",
       "      <th>jet_phi1</th>\n",
       "      <th>jet_mass1</th>\n",
       "      <th>jet_pt2</th>\n",
       "      <th>jet_eta2</th>\n",
       "      <th>jet_phi2</th>\n",
       "      <th>jet_mass2</th>\n",
       "      <th>jet_deta12</th>\n",
       "      <th>jet_dphi12</th>\n",
       "      <th>label</th>\n",
       "      <th>label_is_sig</th>\n",
       "    </tr>\n",
       "  </thead>\n",
       "  <tbody>\n",
       "    <tr>\n",
       "      <th>0</th>\n",
       "      <td>431.166626</td>\n",
       "      <td>-0.409789</td>\n",
       "      <td>-0.053466</td>\n",
       "      <td>16.269297</td>\n",
       "      <td>409.961182</td>\n",
       "      <td>0.653760</td>\n",
       "      <td>3.079527</td>\n",
       "      <td>16.136507</td>\n",
       "      <td>1.063549</td>\n",
       "      <td>3.150192</td>\n",
       "      <td>1</td>\n",
       "      <td>1</td>\n",
       "    </tr>\n",
       "    <tr>\n",
       "      <th>1</th>\n",
       "      <td>281.611206</td>\n",
       "      <td>-0.309674</td>\n",
       "      <td>0.142321</td>\n",
       "      <td>5.474829</td>\n",
       "      <td>266.998352</td>\n",
       "      <td>1.263712</td>\n",
       "      <td>-2.993311</td>\n",
       "      <td>9.688689</td>\n",
       "      <td>1.573386</td>\n",
       "      <td>3.135632</td>\n",
       "      <td>1</td>\n",
       "      <td>1</td>\n",
       "    </tr>\n",
       "    <tr>\n",
       "      <th>2</th>\n",
       "      <td>430.977814</td>\n",
       "      <td>0.712181</td>\n",
       "      <td>1.090687</td>\n",
       "      <td>12.586125</td>\n",
       "      <td>404.504059</td>\n",
       "      <td>-0.164918</td>\n",
       "      <td>-2.051517</td>\n",
       "      <td>12.297118</td>\n",
       "      <td>0.877099</td>\n",
       "      <td>3.142204</td>\n",
       "      <td>1</td>\n",
       "      <td>1</td>\n",
       "    </tr>\n",
       "    <tr>\n",
       "      <th>3</th>\n",
       "      <td>540.412903</td>\n",
       "      <td>0.508327</td>\n",
       "      <td>1.826380</td>\n",
       "      <td>17.101940</td>\n",
       "      <td>400.870605</td>\n",
       "      <td>0.364258</td>\n",
       "      <td>-1.318158</td>\n",
       "      <td>13.366835</td>\n",
       "      <td>0.144070</td>\n",
       "      <td>3.144537</td>\n",
       "      <td>1</td>\n",
       "      <td>1</td>\n",
       "    </tr>\n",
       "    <tr>\n",
       "      <th>4</th>\n",
       "      <td>221.092957</td>\n",
       "      <td>-0.547750</td>\n",
       "      <td>-1.200881</td>\n",
       "      <td>2.974811</td>\n",
       "      <td>215.453430</td>\n",
       "      <td>2.328024</td>\n",
       "      <td>1.938679</td>\n",
       "      <td>9.611918</td>\n",
       "      <td>2.875774</td>\n",
       "      <td>3.143626</td>\n",
       "      <td>1</td>\n",
       "      <td>1</td>\n",
       "    </tr>\n",
       "    <tr>\n",
       "      <th>...</th>\n",
       "      <td>...</td>\n",
       "      <td>...</td>\n",
       "      <td>...</td>\n",
       "      <td>...</td>\n",
       "      <td>...</td>\n",
       "      <td>...</td>\n",
       "      <td>...</td>\n",
       "      <td>...</td>\n",
       "      <td>...</td>\n",
       "      <td>...</td>\n",
       "      <td>...</td>\n",
       "      <td>...</td>\n",
       "    </tr>\n",
       "    <tr>\n",
       "      <th>99995</th>\n",
       "      <td>113.362823</td>\n",
       "      <td>-0.791257</td>\n",
       "      <td>0.909017</td>\n",
       "      <td>5.877603</td>\n",
       "      <td>90.417923</td>\n",
       "      <td>-2.293667</td>\n",
       "      <td>-2.210016</td>\n",
       "      <td>6.940484</td>\n",
       "      <td>1.502410</td>\n",
       "      <td>3.119033</td>\n",
       "      <td>0</td>\n",
       "      <td>0</td>\n",
       "    </tr>\n",
       "    <tr>\n",
       "      <th>99996</th>\n",
       "      <td>156.986099</td>\n",
       "      <td>1.158455</td>\n",
       "      <td>0.568787</td>\n",
       "      <td>16.566175</td>\n",
       "      <td>111.824272</td>\n",
       "      <td>2.234097</td>\n",
       "      <td>-2.614952</td>\n",
       "      <td>7.807077</td>\n",
       "      <td>1.075643</td>\n",
       "      <td>3.183739</td>\n",
       "      <td>0</td>\n",
       "      <td>0</td>\n",
       "    </tr>\n",
       "    <tr>\n",
       "      <th>99997</th>\n",
       "      <td>126.222260</td>\n",
       "      <td>2.718263</td>\n",
       "      <td>-3.091912</td>\n",
       "      <td>4.411303</td>\n",
       "      <td>123.380188</td>\n",
       "      <td>0.561036</td>\n",
       "      <td>0.059249</td>\n",
       "      <td>9.470507</td>\n",
       "      <td>2.157227</td>\n",
       "      <td>3.132025</td>\n",
       "      <td>0</td>\n",
       "      <td>0</td>\n",
       "    </tr>\n",
       "    <tr>\n",
       "      <th>99998</th>\n",
       "      <td>108.420639</td>\n",
       "      <td>1.886348</td>\n",
       "      <td>3.070095</td>\n",
       "      <td>6.271837</td>\n",
       "      <td>92.195427</td>\n",
       "      <td>0.425001</td>\n",
       "      <td>-0.089519</td>\n",
       "      <td>9.848572</td>\n",
       "      <td>1.461346</td>\n",
       "      <td>3.159614</td>\n",
       "      <td>0</td>\n",
       "      <td>0</td>\n",
       "    </tr>\n",
       "    <tr>\n",
       "      <th>99999</th>\n",
       "      <td>113.589111</td>\n",
       "      <td>-0.914284</td>\n",
       "      <td>3.108233</td>\n",
       "      <td>7.656299</td>\n",
       "      <td>85.901093</td>\n",
       "      <td>0.483807</td>\n",
       "      <td>-0.085332</td>\n",
       "      <td>11.093863</td>\n",
       "      <td>1.398090</td>\n",
       "      <td>3.193565</td>\n",
       "      <td>0</td>\n",
       "      <td>0</td>\n",
       "    </tr>\n",
       "  </tbody>\n",
       "</table>\n",
       "<p>300000 rows × 12 columns</p>\n",
       "</div>"
      ],
      "text/plain": [
       "          jet_pt1  jet_eta1  jet_phi1  jet_mass1     jet_pt2  jet_eta2  \\\n",
       "0      431.166626 -0.409789 -0.053466  16.269297  409.961182  0.653760   \n",
       "1      281.611206 -0.309674  0.142321   5.474829  266.998352  1.263712   \n",
       "2      430.977814  0.712181  1.090687  12.586125  404.504059 -0.164918   \n",
       "3      540.412903  0.508327  1.826380  17.101940  400.870605  0.364258   \n",
       "4      221.092957 -0.547750 -1.200881   2.974811  215.453430  2.328024   \n",
       "...           ...       ...       ...        ...         ...       ...   \n",
       "99995  113.362823 -0.791257  0.909017   5.877603   90.417923 -2.293667   \n",
       "99996  156.986099  1.158455  0.568787  16.566175  111.824272  2.234097   \n",
       "99997  126.222260  2.718263 -3.091912   4.411303  123.380188  0.561036   \n",
       "99998  108.420639  1.886348  3.070095   6.271837   92.195427  0.425001   \n",
       "99999  113.589111 -0.914284  3.108233   7.656299   85.901093  0.483807   \n",
       "\n",
       "       jet_phi2  jet_mass2  jet_deta12  jet_dphi12  label  label_is_sig  \n",
       "0      3.079527  16.136507    1.063549    3.150192      1             1  \n",
       "1     -2.993311   9.688689    1.573386    3.135632      1             1  \n",
       "2     -2.051517  12.297118    0.877099    3.142204      1             1  \n",
       "3     -1.318158  13.366835    0.144070    3.144537      1             1  \n",
       "4      1.938679   9.611918    2.875774    3.143626      1             1  \n",
       "...         ...        ...         ...         ...    ...           ...  \n",
       "99995 -2.210016   6.940484    1.502410    3.119033      0             0  \n",
       "99996 -2.614952   7.807077    1.075643    3.183739      0             0  \n",
       "99997  0.059249   9.470507    2.157227    3.132025      0             0  \n",
       "99998 -0.089519   9.848572    1.461346    3.159614      0             0  \n",
       "99999 -0.085332  11.093863    1.398090    3.193565      0             0  \n",
       "\n",
       "[300000 rows x 12 columns]"
      ]
     },
     "execution_count": 3,
     "metadata": {},
     "output_type": "execute_result"
    }
   ],
   "source": [
    "file_list = [\n",
    "    './data/delphes_zprime_1TeV.root',\n",
    "    './data/delphes_zprime_1p5TeV.root',\n",
    "    './data/delphes_zprime_2TeV.root',\n",
    "    './data/delphes_zprime_2p5TeV.root',\n",
    "    './data/delphes_multijet.root',\n",
    "]\n",
    "\n",
    "df_list = []\n",
    "for i, file in enumerate(file_list):\n",
    "    df_list.append(read_arrays(file))  # Read features from ROOT file and append to list\n",
    "    if 'zprime_1TeV' in file:  # Assign integer label to each sample for classification\n",
    "        df_list[i]['label'] = 1\n",
    "    elif 'zprime_1p5TeV' in file:\n",
    "        df_list[i]['label'] = 2\n",
    "    elif 'zprime_2TeV' in file:\n",
    "        df_list[i]['label'] = 3\n",
    "    elif 'zprime_2p5TeV' in file:\n",
    "        df_list[i]['label'] = 4\n",
    "    elif 'multijet' in file:\n",
    "        df_list[i]['label'] = 0  # background\n",
    "\n",
    "    # a variable used as training label: (signal: 1, background: 0)\n",
    "    df_list[i]['label_is_sig'] = (df_list[i]['label'] > 0).astype(int)\n",
    "\n",
    "df = pd.concat(df_list, axis=0)  # Concatenate all DataFrames into a single DataFrame for analysis\n",
    "df"
   ]
  },
  {
   "cell_type": "markdown",
   "id": "6983f37d",
   "metadata": {},
   "source": [
    "Referring to the hands-on notebook, we will plot the distributions of several variables.\n",
    "\n",
    "Can we create some new variables based on these basic variables that could better distinguish between the signal and the background?"
   ]
  },
  {
   "cell_type": "code",
   "execution_count": 4,
   "id": "86c2616d",
   "metadata": {},
   "outputs": [
    {
     "data": {
      "image/png": "[encoded data removed]",
      "text/plain": [
       "<Figure size 3200x2400 with 8 Axes>"
      ]
     },
     "metadata": {},
     "output_type": "display_data"
    }
   ],
   "source": [
    "import matplotlib.pyplot as plt\n",
    "import numpy as np\n",
    "\n",
    "# Define a list of tuples for plotting: (variable name, number of bins, x-axis min, x-axis max)\n",
    "plotinfo = [ # varname, nbin, xmin, xmax\n",
    "    ('jet_pt1', 40, 0, 2000),         # Transverse momentum of the leading jet\n",
    "    ('jet_eta1', 40, -4, 4),          # Pseudorapidity of the leading jet\n",
    "    ('jet_phi1', 40, -4, 4),          # Azimuthal angle of the leading jet\n",
    "    ('jet_mass1', 40, 0, 100),        # Mass of the leading jet\n",
    "    ('jet_pt2', 40, 0, 2000),         # Transverse momentum of the subleading jet\n",
    "    ('jet_eta2', 40, -4, 4),          # Pseudorapidity of the subleading jet\n",
    "    ('jet_phi2', 40, -4, 4),          # Azimuthal angle of the subleading jet\n",
    "    ('jet_mass2', 40, 0, 100),        # Mass of the subleading jet\n",
    "]\n",
    "\n",
    "plt.figure(figsize=(32, 24))  # Set the overall figure size for all subplots\n",
    "\n",
    "for i, (varname, nbin, xmin, xmax) in enumerate(plotinfo):\n",
    "    plt.subplot(3, 4, i+1)  # Arrange subplots in a 3x4 grid\n",
    "    bins = np.linspace(xmin, xmax, nbin+1)  # Define bin edges for the histogram\n",
    "\n",
    "    # Plot signal and background distributions for the current variable\n",
    "    label_map = {\n",
    "        'multijet': 'QCD multijet',\n",
    "        'zprime_1TeV': r'$Z\\'\\rightarrow qq$ (1 TeV)',\n",
    "        'zprime_1.5TeV': r'$Z\\'\\rightarrow qq$ (1.5 TeV)',\n",
    "        'zprime_2TeV': r'$Z\\'\\rightarrow qq$ (2 TeV)',\n",
    "        'zprime_2.5TeV': r'$Z\\'\\rightarrow qq$ (2.5 TeV)',\n",
    "    }\n",
    "    for i, proc in enumerate(label_map.keys()):\n",
    "        df_proc = df[df['label'] == i]\n",
    "        plt.hist(df_proc[varname], histtype=\"step\", bins=bins, label=label_map[proc], density=True)\n",
    "\n",
    "    plt.legend(fontsize=14)  # Add legend with specified font size\n",
    "    plt.xlim(xmin, xmax)     # Set x-axis limits\n",
    "    plt.title(varname, fontsize=16)  # Set subplot title as variable name"
   ]
  },
  {
   "cell_type": "markdown",
   "id": "4467e7b0",
   "metadata": {},
   "source": [
    "## Starting model training and your exploration\n",
    "\n",
    "Now, let's transfer the machine learning models from the hands-on session! You can decide whether to transfer the boosted decision tree model, the basic DNN model, or the transformer model.\n",
    "\n",
    "Remember to check the following details during the transfer process: Is the train/eval/test ratio still 8:1:1? Are the input feature names specified correctly? Is the dimension correct when defining the neural network?\n",
    "\n",
    "After that, test the model you trained, making sure not to use any overlapping datasets from train/eval. As described in the hands-on session, use the distribution of scores to check the distinguishing ability, and monitor metrics with TensorBoard, as well as evaluate the model's performance using the final ROC curve.\n",
    "\n",
    "*For your reference, we implement a basic DNN model training below as an example.*"
   ]
  },
  {
   "cell_type": "code",
   "execution_count": 5,
   "id": "5e13f8e8",
   "metadata": {},
   "outputs": [
    {
     "data": {
      "text/html": [
       "<div>\n",
       "<style scoped>\n",
       "    .dataframe tbody tr th:only-of-type {\n",
       "        vertical-align: middle;\n",
       "    }\n",
       "\n",
       "    .dataframe tbody tr th {\n",
       "        vertical-align: top;\n",
       "    }\n",
       "\n",
       "    .dataframe thead th {\n",
       "        text-align: right;\n",
       "    }\n",
       "</style>\n",
       "<table border=\"1\" class=\"dataframe\">\n",
       "  <thead>\n",
       "    <tr style=\"text-align: right;\">\n",
       "      <th></th>\n",
       "      <th>jet_pt1</th>\n",
       "      <th>jet_eta1</th>\n",
       "      <th>jet_phi1</th>\n",
       "      <th>jet_mass1</th>\n",
       "      <th>jet_pt2</th>\n",
       "      <th>jet_eta2</th>\n",
       "      <th>jet_phi2</th>\n",
       "      <th>jet_mass2</th>\n",
       "      <th>jet_deta12</th>\n",
       "      <th>jet_dphi12</th>\n",
       "      <th>...</th>\n",
       "      <th>jet_pt1_trans</th>\n",
       "      <th>jet_eta1_trans</th>\n",
       "      <th>jet_phi1_trans</th>\n",
       "      <th>jet_mass1_trans</th>\n",
       "      <th>jet_pt2_trans</th>\n",
       "      <th>jet_eta2_trans</th>\n",
       "      <th>jet_phi2_trans</th>\n",
       "      <th>jet_mass2_trans</th>\n",
       "      <th>jet_deta12_trans</th>\n",
       "      <th>jet_dphi12_trans</th>\n",
       "    </tr>\n",
       "  </thead>\n",
       "  <tbody>\n",
       "    <tr>\n",
       "      <th>0</th>\n",
       "      <td>431.166626</td>\n",
       "      <td>-0.409789</td>\n",
       "      <td>-0.053466</td>\n",
       "      <td>16.269297</td>\n",
       "      <td>409.961182</td>\n",
       "      <td>0.653760</td>\n",
       "      <td>3.079527</td>\n",
       "      <td>16.136507</td>\n",
       "      <td>1.063549</td>\n",
       "      <td>3.150192</td>\n",
       "      <td>...</td>\n",
       "      <td>-0.175749</td>\n",
       "      <td>-0.320112</td>\n",
       "      <td>-0.030201</td>\n",
       "      <td>-0.066892</td>\n",
       "      <td>0.037473</td>\n",
       "      <td>0.478780</td>\n",
       "      <td>1.703005</td>\n",
       "      <td>0.222721</td>\n",
       "      <td>-0.352337</td>\n",
       "      <td>0.067607</td>\n",
       "    </tr>\n",
       "    <tr>\n",
       "      <th>1</th>\n",
       "      <td>281.611206</td>\n",
       "      <td>-0.309674</td>\n",
       "      <td>0.142321</td>\n",
       "      <td>5.474829</td>\n",
       "      <td>266.998352</td>\n",
       "      <td>1.263712</td>\n",
       "      <td>-2.993311</td>\n",
       "      <td>9.688689</td>\n",
       "      <td>1.573386</td>\n",
       "      <td>3.135632</td>\n",
       "      <td>...</td>\n",
       "      <td>-0.598563</td>\n",
       "      <td>-0.241924</td>\n",
       "      <td>0.077850</td>\n",
       "      <td>-1.240281</td>\n",
       "      <td>-0.433486</td>\n",
       "      <td>0.924799</td>\n",
       "      <td>-1.654371</td>\n",
       "      <td>-0.578385</td>\n",
       "      <td>0.086021</td>\n",
       "      <td>-0.031409</td>\n",
       "    </tr>\n",
       "    <tr>\n",
       "      <th>2</th>\n",
       "      <td>430.977814</td>\n",
       "      <td>0.712181</td>\n",
       "      <td>1.090687</td>\n",
       "      <td>12.586125</td>\n",
       "      <td>404.504059</td>\n",
       "      <td>-0.164918</td>\n",
       "      <td>-2.051517</td>\n",
       "      <td>12.297118</td>\n",
       "      <td>0.877099</td>\n",
       "      <td>3.142204</td>\n",
       "      <td>...</td>\n",
       "      <td>-0.176283</td>\n",
       "      <td>0.556120</td>\n",
       "      <td>0.601238</td>\n",
       "      <td>-0.467263</td>\n",
       "      <td>0.019496</td>\n",
       "      <td>-0.119867</td>\n",
       "      <td>-1.133698</td>\n",
       "      <td>-0.254302</td>\n",
       "      <td>-0.512647</td>\n",
       "      <td>0.013280</td>\n",
       "    </tr>\n",
       "    <tr>\n",
       "      <th>3</th>\n",
       "      <td>540.412903</td>\n",
       "      <td>0.508327</td>\n",
       "      <td>1.826380</td>\n",
       "      <td>17.101940</td>\n",
       "      <td>400.870605</td>\n",
       "      <td>0.364258</td>\n",
       "      <td>-1.318158</td>\n",
       "      <td>13.366835</td>\n",
       "      <td>0.144070</td>\n",
       "      <td>3.144537</td>\n",
       "      <td>...</td>\n",
       "      <td>0.133106</td>\n",
       "      <td>0.396915</td>\n",
       "      <td>1.007254</td>\n",
       "      <td>0.023618</td>\n",
       "      <td>0.007527</td>\n",
       "      <td>0.267085</td>\n",
       "      <td>-0.728260</td>\n",
       "      <td>-0.121395</td>\n",
       "      <td>-1.142906</td>\n",
       "      <td>0.029149</td>\n",
       "    </tr>\n",
       "    <tr>\n",
       "      <th>4</th>\n",
       "      <td>221.092957</td>\n",
       "      <td>-0.547750</td>\n",
       "      <td>-1.200881</td>\n",
       "      <td>2.974811</td>\n",
       "      <td>215.453430</td>\n",
       "      <td>2.328024</td>\n",
       "      <td>1.938679</td>\n",
       "      <td>9.611918</td>\n",
       "      <td>2.875774</td>\n",
       "      <td>3.143626</td>\n",
       "      <td>...</td>\n",
       "      <td>-0.769657</td>\n",
       "      <td>-0.427856</td>\n",
       "      <td>-0.663440</td>\n",
       "      <td>-1.512040</td>\n",
       "      <td>-0.603289</td>\n",
       "      <td>1.703063</td>\n",
       "      <td>1.072286</td>\n",
       "      <td>-0.587923</td>\n",
       "      <td>1.205816</td>\n",
       "      <td>0.022951</td>\n",
       "    </tr>\n",
       "    <tr>\n",
       "      <th>...</th>\n",
       "      <td>...</td>\n",
       "      <td>...</td>\n",
       "      <td>...</td>\n",
       "      <td>...</td>\n",
       "      <td>...</td>\n",
       "      <td>...</td>\n",
       "      <td>...</td>\n",
       "      <td>...</td>\n",
       "      <td>...</td>\n",
       "      <td>...</td>\n",
       "      <td>...</td>\n",
       "      <td>...</td>\n",
       "      <td>...</td>\n",
       "      <td>...</td>\n",
       "      <td>...</td>\n",
       "      <td>...</td>\n",
       "      <td>...</td>\n",
       "      <td>...</td>\n",
       "      <td>...</td>\n",
       "      <td>...</td>\n",
       "      <td>...</td>\n",
       "    </tr>\n",
       "    <tr>\n",
       "      <th>99995</th>\n",
       "      <td>113.362823</td>\n",
       "      <td>-0.791257</td>\n",
       "      <td>0.909017</td>\n",
       "      <td>5.877603</td>\n",
       "      <td>90.417923</td>\n",
       "      <td>-2.293667</td>\n",
       "      <td>-2.210016</td>\n",
       "      <td>6.940484</td>\n",
       "      <td>1.502410</td>\n",
       "      <td>3.119033</td>\n",
       "      <td>...</td>\n",
       "      <td>-1.074225</td>\n",
       "      <td>-0.618029</td>\n",
       "      <td>0.500977</td>\n",
       "      <td>-1.196499</td>\n",
       "      <td>-1.015190</td>\n",
       "      <td>-1.676487</td>\n",
       "      <td>-1.221325</td>\n",
       "      <td>-0.919835</td>\n",
       "      <td>0.024997</td>\n",
       "      <td>-0.144289</td>\n",
       "    </tr>\n",
       "    <tr>\n",
       "      <th>99996</th>\n",
       "      <td>156.986099</td>\n",
       "      <td>1.158455</td>\n",
       "      <td>0.568787</td>\n",
       "      <td>16.566175</td>\n",
       "      <td>111.824272</td>\n",
       "      <td>2.234097</td>\n",
       "      <td>-2.614952</td>\n",
       "      <td>7.807077</td>\n",
       "      <td>1.075643</td>\n",
       "      <td>3.183739</td>\n",
       "      <td>...</td>\n",
       "      <td>-0.950896</td>\n",
       "      <td>0.904649</td>\n",
       "      <td>0.313210</td>\n",
       "      <td>-0.034621</td>\n",
       "      <td>-0.944672</td>\n",
       "      <td>1.634380</td>\n",
       "      <td>-1.445195</td>\n",
       "      <td>-0.812165</td>\n",
       "      <td>-0.341939</td>\n",
       "      <td>0.295741</td>\n",
       "    </tr>\n",
       "    <tr>\n",
       "      <th>99997</th>\n",
       "      <td>126.222260</td>\n",
       "      <td>2.718263</td>\n",
       "      <td>-3.091912</td>\n",
       "      <td>4.411303</td>\n",
       "      <td>123.380188</td>\n",
       "      <td>0.561036</td>\n",
       "      <td>0.059249</td>\n",
       "      <td>9.470507</td>\n",
       "      <td>2.157227</td>\n",
       "      <td>3.132025</td>\n",
       "      <td>...</td>\n",
       "      <td>-1.037870</td>\n",
       "      <td>2.122822</td>\n",
       "      <td>-1.707068</td>\n",
       "      <td>-1.355890</td>\n",
       "      <td>-0.906603</td>\n",
       "      <td>0.410977</td>\n",
       "      <td>0.033241</td>\n",
       "      <td>-0.605493</td>\n",
       "      <td>0.588008</td>\n",
       "      <td>-0.055941</td>\n",
       "    </tr>\n",
       "    <tr>\n",
       "      <th>99998</th>\n",
       "      <td>108.420639</td>\n",
       "      <td>1.886348</td>\n",
       "      <td>3.070095</td>\n",
       "      <td>6.271837</td>\n",
       "      <td>92.195427</td>\n",
       "      <td>0.425001</td>\n",
       "      <td>-0.089519</td>\n",
       "      <td>9.848572</td>\n",
       "      <td>1.461346</td>\n",
       "      <td>3.159614</td>\n",
       "      <td>...</td>\n",
       "      <td>-1.088197</td>\n",
       "      <td>1.473116</td>\n",
       "      <td>1.693639</td>\n",
       "      <td>-1.153644</td>\n",
       "      <td>-1.009335</td>\n",
       "      <td>0.311503</td>\n",
       "      <td>-0.049006</td>\n",
       "      <td>-0.558521</td>\n",
       "      <td>-0.010310</td>\n",
       "      <td>0.131676</td>\n",
       "    </tr>\n",
       "    <tr>\n",
       "      <th>99999</th>\n",
       "      <td>113.589111</td>\n",
       "      <td>-0.914284</td>\n",
       "      <td>3.108233</td>\n",
       "      <td>7.656299</td>\n",
       "      <td>85.901093</td>\n",
       "      <td>0.483807</td>\n",
       "      <td>-0.085332</td>\n",
       "      <td>11.093863</td>\n",
       "      <td>1.398090</td>\n",
       "      <td>3.193565</td>\n",
       "      <td>...</td>\n",
       "      <td>-1.073585</td>\n",
       "      <td>-0.714110</td>\n",
       "      <td>1.714687</td>\n",
       "      <td>-1.003149</td>\n",
       "      <td>-1.030070</td>\n",
       "      <td>0.354504</td>\n",
       "      <td>-0.046691</td>\n",
       "      <td>-0.403800</td>\n",
       "      <td>-0.064698</td>\n",
       "      <td>0.362559</td>\n",
       "    </tr>\n",
       "  </tbody>\n",
       "</table>\n",
       "<p>300000 rows × 22 columns</p>\n",
       "</div>"
      ],
      "text/plain": [
       "          jet_pt1  jet_eta1  jet_phi1  jet_mass1     jet_pt2  jet_eta2  \\\n",
       "0      431.166626 -0.409789 -0.053466  16.269297  409.961182  0.653760   \n",
       "1      281.611206 -0.309674  0.142321   5.474829  266.998352  1.263712   \n",
       "2      430.977814  0.712181  1.090687  12.586125  404.504059 -0.164918   \n",
       "3      540.412903  0.508327  1.826380  17.101940  400.870605  0.364258   \n",
       "4      221.092957 -0.547750 -1.200881   2.974811  215.453430  2.328024   \n",
       "...           ...       ...       ...        ...         ...       ...   \n",
       "99995  113.362823 -0.791257  0.909017   5.877603   90.417923 -2.293667   \n",
       "99996  156.986099  1.158455  0.568787  16.566175  111.824272  2.234097   \n",
       "99997  126.222260  2.718263 -3.091912   4.411303  123.380188  0.561036   \n",
       "99998  108.420639  1.886348  3.070095   6.271837   92.195427  0.425001   \n",
       "99999  113.589111 -0.914284  3.108233   7.656299   85.901093  0.483807   \n",
       "\n",
       "       jet_phi2  jet_mass2  jet_deta12  jet_dphi12  ...  jet_pt1_trans  \\\n",
       "0      3.079527  16.136507    1.063549    3.150192  ...      -0.175749   \n",
       "1     -2.993311   9.688689    1.573386    3.135632  ...      -0.598563   \n",
       "2     -2.051517  12.297118    0.877099    3.142204  ...      -0.176283   \n",
       "3     -1.318158  13.366835    0.144070    3.144537  ...       0.133106   \n",
       "4      1.938679   9.611918    2.875774    3.143626  ...      -0.769657   \n",
       "...         ...        ...         ...         ...  ...            ...   \n",
       "99995 -2.210016   6.940484    1.502410    3.119033  ...      -1.074225   \n",
       "99996 -2.614952   7.807077    1.075643    3.183739  ...      -0.950896   \n",
       "99997  0.059249   9.470507    2.157227    3.132025  ...      -1.037870   \n",
       "99998 -0.089519   9.848572    1.461346    3.159614  ...      -1.088197   \n",
       "99999 -0.085332  11.093863    1.398090    3.193565  ...      -1.073585   \n",
       "\n",
       "       jet_eta1_trans  jet_phi1_trans  jet_mass1_trans  jet_pt2_trans  \\\n",
       "0           -0.320112       -0.030201        -0.066892       0.037473   \n",
       "1           -0.241924        0.077850        -1.240281      -0.433486   \n",
       "2            0.556120        0.601238        -0.467263       0.019496   \n",
       "3            0.396915        1.007254         0.023618       0.007527   \n",
       "4           -0.427856       -0.663440        -1.512040      -0.603289   \n",
       "...               ...             ...              ...            ...   \n",
       "99995       -0.618029        0.500977        -1.196499      -1.015190   \n",
       "99996        0.904649        0.313210        -0.034621      -0.944672   \n",
       "99997        2.122822       -1.707068        -1.355890      -0.906603   \n",
       "99998        1.473116        1.693639        -1.153644      -1.009335   \n",
       "99999       -0.714110        1.714687        -1.003149      -1.030070   \n",
       "\n",
       "       jet_eta2_trans  jet_phi2_trans  jet_mass2_trans  jet_deta12_trans  \\\n",
       "0            0.478780        1.703005         0.222721         -0.352337   \n",
       "1            0.924799       -1.654371        -0.578385          0.086021   \n",
       "2           -0.119867       -1.133698        -0.254302         -0.512647   \n",
       "3            0.267085       -0.728260        -0.121395         -1.142906   \n",
       "4            1.703063        1.072286        -0.587923          1.205816   \n",
       "...               ...             ...              ...               ...   \n",
       "99995       -1.676487       -1.221325        -0.919835          0.024997   \n",
       "99996        1.634380       -1.445195        -0.812165         -0.341939   \n",
       "99997        0.410977        0.033241        -0.605493          0.588008   \n",
       "99998        0.311503       -0.049006        -0.558521         -0.010310   \n",
       "99999        0.354504       -0.046691        -0.403800         -0.064698   \n",
       "\n",
       "       jet_dphi12_trans  \n",
       "0              0.067607  \n",
       "1             -0.031409  \n",
       "2              0.013280  \n",
       "3              0.029149  \n",
       "4              0.022951  \n",
       "...                 ...  \n",
       "99995         -0.144289  \n",
       "99996          0.295741  \n",
       "99997         -0.055941  \n",
       "99998          0.131676  \n",
       "99999          0.362559  \n",
       "\n",
       "[300000 rows x 22 columns]"
      ]
     },
     "execution_count": 5,
     "metadata": {},
     "output_type": "execute_result"
    }
   ],
   "source": [
    "# Standardize the data as we do in the hands-on session\n",
    "\n",
    "from sklearn.preprocessing import StandardScaler\n",
    "scaler = StandardScaler()\n",
    "\n",
    "input_columns = ['jet_pt1', 'jet_eta1', 'jet_phi1', 'jet_mass1', 'jet_pt2', 'jet_eta2', 'jet_phi2', 'jet_mass2', 'jet_deta12', 'jet_dphi12']\n",
    "\n",
    "# Fit and transform the DataFrame\n",
    "df_trans = pd.DataFrame(scaler.fit_transform(df[input_columns]), columns=[c + '_trans' for c in input_columns], index=df.index)\n",
    "df = pd.concat([df, df_trans], axis=1)\n",
    "df"
   ]
  },
  {
   "cell_type": "code",
   "execution_count": 11,
   "id": "c7fd43c7",
   "metadata": {},
   "outputs": [],
   "source": [
    "import numpy as np\n",
    "import torch\n",
    "from torch.utils.data import Dataset, DataLoader\n",
    "import lightning as L\n",
    "import torch.nn.functional as F\n",
    "from sklearn.model_selection import train_test_split\n",
    "from torch import nn\n",
    "import torchmetrics\n",
    "\n",
    "# Define the PyTorch Lightning model for a simple multilayer perceptron (MLP)\n",
    "class SimpleMLP(L.LightningModule):\n",
    "    def __init__(self, input_size, hidden_size, output_size):\n",
    "        super(SimpleMLP, self).__init__()\n",
    "        self.layer1 = nn.Linear(input_size, hidden_size)   # First fully connected layer\n",
    "        self.layer2 = nn.Linear(hidden_size, hidden_size)  # Second fully connected layer\n",
    "        self.layer3 = nn.Linear(hidden_size, output_size)  # Output layer\n",
    "\n",
    "        self.train_acc = torchmetrics.Accuracy(task=\"multiclass\", num_classes=output_size)  # Accuracy metrics for training\n",
    "        self.val_acc = torchmetrics.Accuracy(task=\"multiclass\", num_classes=output_size)    # Accuracy metrics for validation\n",
    "\n",
    "    def forward(self, x):\n",
    "        # Forward pass: input -> relu -> hidden -> relu -> output\n",
    "        x = F.relu(self.layer1(x))\n",
    "        x = F.relu(self.layer2(x))\n",
    "        x = self.layer3(x)\n",
    "        return x\n",
    "\n",
    "    def training_step(self, batch, batch_idx):\n",
    "        # Defines the operations for each training batch\n",
    "        x, y = batch\n",
    "        logits = self(x)\n",
    "        loss = F.cross_entropy(logits, y)\n",
    "        self.train_acc(logits, y)\n",
    "        # Log training loss and accuracy\n",
    "        self.log('train_loss', loss)\n",
    "        self.log('train_acc', self.train_acc, on_step=False, on_epoch=True)\n",
    "        # Log current learning rate\n",
    "        self.log('lr', self.trainer.optimizers[0].param_groups[0]['lr'])\n",
    "        return loss\n",
    "\n",
    "    def validation_step(self, batch, batch_idx):\n",
    "        # Defines the operations for each validation batch\n",
    "        x, y = batch\n",
    "        logits = self(x)\n",
    "        loss = F.cross_entropy(logits, y)\n",
    "        self.val_acc(logits, y)\n",
    "        # Log validation loss and accuracy\n",
    "        self.log('val_loss', loss)\n",
    "        self.log('val_acc', self.val_acc, on_step=False, on_epoch=True)\n",
    "        return loss\n",
    "\n",
    "    def configure_optimizers(self):\n",
    "        # Set up optimizer and learning rate scheduler\n",
    "        optimizer = torch.optim.Adam(self.parameters(), lr=0.001)\n",
    "        \n",
    "        # Learning rate schedule: constant for 70% of epochs, then exponential decay to 1% of initial value\n",
    "        '''\n",
    "        老版本余弦退火\n",
    "        def lr_lambda(epoch):\n",
    "            if epoch < 0.7 * self.trainer.max_epochs:\n",
    "                return 1.0\n",
    "            else:\n",
    "                decay_factor = (epoch - 0.7 * self.trainer.max_epochs) / (0.3 * self.trainer.max_epochs)\n",
    "                return 0.01 ** decay_factor\n",
    "        '''\n",
    "        '''\n",
    "        新版本余弦退火\n",
    "        '''\n",
    "        def lr_lambda(epoch):\n",
    "            # 定义学习率调整函数，根据训练周期调整学习率\n",
    "            # 参数 epoch: 当前训练周期\n",
    "            # 返回值: 学习率调整因子\n",
    "            # 如果当前周期小于总周期的70%，则保持学习率不变\n",
    "            if epoch < 0.7 * self.trainer.max_epochs:\n",
    "                return 1.0\n",
    "            else:\n",
    "                # 当周期超过70%时，使用余弦退火函数调整学习率\n",
    "                # 计算衰减因子，从0到1之间变化\n",
    "                decay_factor = (cos((epoch - 0.7 * self.trainer.max_epochs) / (0.3 * self.trainer.max_epochs) * pi) + 1) / 2\n",
    "                # 返回0.01的decay_factor次方，实现学习率的平滑衰减\n",
    "                return 0.01 ** decay_factor\n",
    "\n",
    "        scheduler = torch.optim.lr_scheduler.LambdaLR(optimizer, lr_lambda)\n",
    "        return [optimizer], [scheduler]\n",
    "\n",
    "\n",
    "# Define a custom PyTorch Dataset to wrap a pandas DataFrame\n",
    "# See: https://pytorch.org/tutorials/beginner/basics/data_tutorial.html\n",
    "class DataFrameDataset(Dataset):\n",
    "    def __init__(self, dataframe, input_columns, target_column):\n",
    "        # Store the dataframe and extract input features and targets\n",
    "        self.dataframe = dataframe\n",
    "        self.inputs = dataframe[input_columns].values\n",
    "        self.targets = dataframe[target_column].values\n",
    "\n",
    "    def __len__(self):\n",
    "        # Return the number of samples in the dataset\n",
    "        return len(self.dataframe)\n",
    "\n",
    "    def __getitem__(self, idx):\n",
    "        # Retrieve the input features and label for a given index\n",
    "        x = torch.tensor(self.inputs[idx], dtype=torch.float32)  # N-dimensional input features\n",
    "        y = torch.tensor(self.targets[idx], dtype=torch.long)    # 1-dimensional label\n",
    "        return x, y"
   ]
  },
  {
   "cell_type": "code",
   "execution_count": 7,
   "id": "dc2fef39",
   "metadata": {},
   "outputs": [],
   "source": [
    "# These are all the input features we are using. Remember to modify them in your own research.\n",
    "input_columns = ['jet_pt1', 'jet_eta1', 'jet_phi1', 'jet_mass1', 'jet_pt2', 'jet_eta2', 'jet_phi2', 'jet_mass2', 'jet_deta12', 'jet_dphi12']\n",
    "target_column = 'label_is_sig'\n",
    "\n",
    "\n",
    "# Split the data into training/validation/testing datasets following 80/10/10%\n",
    "train_df, test_df = train_test_split(df, test_size=0.2)\n",
    "val_df, test_df = train_test_split(test_df, test_size=0.5)\n",
    "\n",
    "# Create datasets (remember to use the transformed features!)\n",
    "train_dataset = DataFrameDataset(train_df, [c + '_trans' for c in input_columns], target_column)\n",
    "val_dataset = DataFrameDataset(val_df, [c + '_trans' for c in input_columns], target_column)\n",
    "\n",
    "# Create data loaders\n",
    "train_loader = DataLoader(train_dataset, batch_size=1024, shuffle=True)\n",
    "val_loader = DataLoader(val_dataset, batch_size=1024)\n",
    "\n",
    "# Create Model instance (reminder: input_size is the number of features)\n",
    "model_mlp = SimpleMLP(input_size=10, hidden_size=64, output_size=2)"
   ]
  },
  {
   "cell_type": "code",
   "execution_count": 12,
   "id": "4606ee01",
   "metadata": {},
   "outputs": [
    {
     "name": "stderr",
     "output_type": "stream",
     "text": [
      "💡 Tip: For seamless cloud uploads and versioning, try installing [litmodels](https://pypi.org/project/litmodels/) to enable LitModelCheckpoint, which syncs automatically with the Lightning model registry.\n",
      "GPU available: False, used: False\n",
      "TPU available: False, using: 0 TPU cores\n",
      "HPU available: False, using: 0 HPUs\n",
      "\n",
      "  | Name      | Type               | Params | Mode \n",
      "---------------------------------------------------------\n",
      "0 | layer1    | Linear             | 704    | train\n",
      "1 | layer2    | Linear             | 4.2 K  | train\n",
      "2 | layer3    | Linear             | 130    | train\n",
      "3 | train_acc | MulticlassAccuracy | 0      | train\n",
      "4 | val_acc   | MulticlassAccuracy | 0      | train\n",
      "---------------------------------------------------------\n",
      "5.0 K     Trainable params\n",
      "0         Non-trainable params\n",
      "5.0 K     Total params\n",
      "0.020     Total estimated model params size (MB)\n",
      "5         Modules in train mode\n",
      "0         Modules in eval mode\n"
     ]
    },
    {
     "data": {
      "application/vnd.jupyter.widget-view+json": {
       "model_id": "16f09b3bb8d240908a6dabf60fa659a5",
       "version_major": 2,
       "version_minor": 0
      },
      "text/plain": [
       "Sanity Checking: |          | 0/? [00:00<?, ?it/s]"
      ]
     },
     "metadata": {},
     "output_type": "display_data"
    },
    {
     "data": {
      "application/vnd.jupyter.widget-view+json": {
       "model_id": "6189defae94d44a5bc788be32da72f0e",
       "version_major": 2,
       "version_minor": 0
      },
      "text/plain": [
       "Training: |          | 0/? [00:00<?, ?it/s]"
      ]
     },
     "metadata": {},
     "output_type": "display_data"
    },
    {
     "data": {
      "application/vnd.jupyter.widget-view+json": {
       "model_id": "20b6918514f94ca7b5082652859d2261",
       "version_major": 2,
       "version_minor": 0
      },
      "text/plain": [
       "Validation: |          | 0/? [00:00<?, ?it/s]"
      ]
     },
     "metadata": {},
     "output_type": "display_data"
    },
    {
     "data": {
      "application/vnd.jupyter.widget-view+json": {
       "model_id": "9db72a4f5aea4eaeb98df0231e6961c2",
       "version_major": 2,
       "version_minor": 0
      },
      "text/plain": [
       "Validation: |          | 0/? [00:00<?, ?it/s]"
      ]
     },
     "metadata": {},
     "output_type": "display_data"
    },
    {
     "data": {
      "application/vnd.jupyter.widget-view+json": {
       "model_id": "021582477ea84d59a64cdd992d27ea1f",
       "version_major": 2,
       "version_minor": 0
      },
      "text/plain": [
       "Validation: |          | 0/? [00:00<?, ?it/s]"
      ]
     },
     "metadata": {},
     "output_type": "display_data"
    },
    {
     "data": {
      "application/vnd.jupyter.widget-view+json": {
       "model_id": "e9b973b982b24d2083c653a3489e5346",
       "version_major": 2,
       "version_minor": 0
      },
      "text/plain": [
       "Validation: |          | 0/? [00:00<?, ?it/s]"
      ]
     },
     "metadata": {},
     "output_type": "display_data"
    },
    {
     "data": {
      "application/vnd.jupyter.widget-view+json": {
       "model_id": "fede4f86d94d4c6286348a2a4cdab125",
       "version_major": 2,
       "version_minor": 0
      },
      "text/plain": [
       "Validation: |          | 0/? [00:00<?, ?it/s]"
      ]
     },
     "metadata": {},
     "output_type": "display_data"
    },
    {
     "data": {
      "application/vnd.jupyter.widget-view+json": {
       "model_id": "c23f2e8275bc4a4589fca671ab76c679",
       "version_major": 2,
       "version_minor": 0
      },
      "text/plain": [
       "Validation: |          | 0/? [00:00<?, ?it/s]"
      ]
     },
     "metadata": {},
     "output_type": "display_data"
    },
    {
     "data": {
      "application/vnd.jupyter.widget-view+json": {
       "model_id": "f4d97462b1514a14a21aae89212c71b5",
       "version_major": 2,
       "version_minor": 0
      },
      "text/plain": [
       "Validation: |          | 0/? [00:00<?, ?it/s]"
      ]
     },
     "metadata": {},
     "output_type": "display_data"
    },
    {
     "data": {
      "application/vnd.jupyter.widget-view+json": {
       "model_id": "df1dbd210c044124a8b754834af42691",
       "version_major": 2,
       "version_minor": 0
      },
      "text/plain": [
       "Validation: |          | 0/? [00:00<?, ?it/s]"
      ]
     },
     "metadata": {},
     "output_type": "display_data"
    },
    {
     "data": {
      "application/vnd.jupyter.widget-view+json": {
       "model_id": "037be84f865049d7941316b32e078ed3",
       "version_major": 2,
       "version_minor": 0
      },
      "text/plain": [
       "Validation: |          | 0/? [00:00<?, ?it/s]"
      ]
     },
     "metadata": {},
     "output_type": "display_data"
    },
    {
     "data": {
      "application/vnd.jupyter.widget-view+json": {
       "model_id": "396ed32aa07341298e3a2d391802e199",
       "version_major": 2,
       "version_minor": 0
      },
      "text/plain": [
       "Validation: |          | 0/? [00:00<?, ?it/s]"
      ]
     },
     "metadata": {},
     "output_type": "display_data"
    },
    {
     "data": {
      "application/vnd.jupyter.widget-view+json": {
       "model_id": "28c94885640f427aacbdb95e0ff82d42",
       "version_major": 2,
       "version_minor": 0
      },
      "text/plain": [
       "Validation: |          | 0/? [00:00<?, ?it/s]"
      ]
     },
     "metadata": {},
     "output_type": "display_data"
    },
    {
     "data": {
      "application/vnd.jupyter.widget-view+json": {
       "model_id": "d94d2a6ea5644a1388ad29b20b6228fb",
       "version_major": 2,
       "version_minor": 0
      },
      "text/plain": [
       "Validation: |          | 0/? [00:00<?, ?it/s]"
      ]
     },
     "metadata": {},
     "output_type": "display_data"
    },
    {
     "data": {
      "application/vnd.jupyter.widget-view+json": {
       "model_id": "f00a240cf49e45409f02f43083b860af",
       "version_major": 2,
       "version_minor": 0
      },
      "text/plain": [
       "Validation: |          | 0/? [00:00<?, ?it/s]"
      ]
     },
     "metadata": {},
     "output_type": "display_data"
    },
    {
     "data": {
      "application/vnd.jupyter.widget-view+json": {
       "model_id": "e678a99af9254ddbb082f96ecdd0301a",
       "version_major": 2,
       "version_minor": 0
      },
      "text/plain": [
       "Validation: |          | 0/? [00:00<?, ?it/s]"
      ]
     },
     "metadata": {},
     "output_type": "display_data"
    },
    {
     "data": {
      "application/vnd.jupyter.widget-view+json": {
       "model_id": "e4db416fcb9a42ca8344a96d1f49e765",
       "version_major": 2,
       "version_minor": 0
      },
      "text/plain": [
       "Validation: |          | 0/? [00:00<?, ?it/s]"
      ]
     },
     "metadata": {},
     "output_type": "display_data"
    },
    {
     "data": {
      "application/vnd.jupyter.widget-view+json": {
       "model_id": "a68675d94ceb4981b54c71a35f2ef8c5",
       "version_major": 2,
       "version_minor": 0
      },
      "text/plain": [
       "Validation: |          | 0/? [00:00<?, ?it/s]"
      ]
     },
     "metadata": {},
     "output_type": "display_data"
    },
    {
     "data": {
      "application/vnd.jupyter.widget-view+json": {
       "model_id": "102a535b9e0d42ff8e6a0e4f67f1a7bc",
       "version_major": 2,
       "version_minor": 0
      },
      "text/plain": [
       "Validation: |          | 0/? [00:00<?, ?it/s]"
      ]
     },
     "metadata": {},
     "output_type": "display_data"
    },
    {
     "data": {
      "application/vnd.jupyter.widget-view+json": {
       "model_id": "53650b86f2f64b238d3e7fac1e5c0fa9",
       "version_major": 2,
       "version_minor": 0
      },
      "text/plain": [
       "Validation: |          | 0/? [00:00<?, ?it/s]"
      ]
     },
     "metadata": {},
     "output_type": "display_data"
    },
    {
     "data": {
      "application/vnd.jupyter.widget-view+json": {
       "model_id": "2b09279e971b4f45924916c3fa946e4f",
       "version_major": 2,
       "version_minor": 0
      },
      "text/plain": [
       "Validation: |          | 0/? [00:00<?, ?it/s]"
      ]
     },
     "metadata": {},
     "output_type": "display_data"
    },
    {
     "data": {
      "application/vnd.jupyter.widget-view+json": {
       "model_id": "82d0d9879a164ccca885723bbf11faaf",
       "version_major": 2,
       "version_minor": 0
      },
      "text/plain": [
       "Validation: |          | 0/? [00:00<?, ?it/s]"
      ]
     },
     "metadata": {},
     "output_type": "display_data"
    },
    {
     "data": {
      "application/vnd.jupyter.widget-view+json": {
       "model_id": "b0492b85b95a4c3288eba62814c2816e",
       "version_major": 2,
       "version_minor": 0
      },
      "text/plain": [
       "Validation: |          | 0/? [00:00<?, ?it/s]"
      ]
     },
     "metadata": {},
     "output_type": "display_data"
    },
    {
     "data": {
      "application/vnd.jupyter.widget-view+json": {
       "model_id": "1e781423acb148eaba34faeff1714518",
       "version_major": 2,
       "version_minor": 0
      },
      "text/plain": [
       "Validation: |          | 0/? [00:00<?, ?it/s]"
      ]
     },
     "metadata": {},
     "output_type": "display_data"
    },
    {
     "data": {
      "application/vnd.jupyter.widget-view+json": {
       "model_id": "ed3218bbdca147919db0c694e21d8296",
       "version_major": 2,
       "version_minor": 0
      },
      "text/plain": [
       "Validation: |          | 0/? [00:00<?, ?it/s]"
      ]
     },
     "metadata": {},
     "output_type": "display_data"
    },
    {
     "data": {
      "application/vnd.jupyter.widget-view+json": {
       "model_id": "8a765998ee714e1ba3a315d1d95dbc59",
       "version_major": 2,
       "version_minor": 0
      },
      "text/plain": [
       "Validation: |          | 0/? [00:00<?, ?it/s]"
      ]
     },
     "metadata": {},
     "output_type": "display_data"
    },
    {
     "data": {
      "application/vnd.jupyter.widget-view+json": {
       "model_id": "56f74da0dd1f48518d38949d7ccfb7a4",
       "version_major": 2,
       "version_minor": 0
      },
      "text/plain": [
       "Validation: |          | 0/? [00:00<?, ?it/s]"
      ]
     },
     "metadata": {},
     "output_type": "display_data"
    },
    {
     "data": {
      "application/vnd.jupyter.widget-view+json": {
       "model_id": "bd5448dcfbd14e389b17c4c9b2c6e5d0",
       "version_major": 2,
       "version_minor": 0
      },
      "text/plain": [
       "Validation: |          | 0/? [00:00<?, ?it/s]"
      ]
     },
     "metadata": {},
     "output_type": "display_data"
    },
    {
     "data": {
      "application/vnd.jupyter.widget-view+json": {
       "model_id": "597d738e1a1d46f4a2f8485ee2aac337",
       "version_major": 2,
       "version_minor": 0
      },
      "text/plain": [
       "Validation: |          | 0/? [00:00<?, ?it/s]"
      ]
     },
     "metadata": {},
     "output_type": "display_data"
    },
    {
     "data": {
      "application/vnd.jupyter.widget-view+json": {
       "model_id": "3c413d1d74314fdb83b4fea05e7fe13a",
       "version_major": 2,
       "version_minor": 0
      },
      "text/plain": [
       "Validation: |          | 0/? [00:00<?, ?it/s]"
      ]
     },
     "metadata": {},
     "output_type": "display_data"
    },
    {
     "data": {
      "application/vnd.jupyter.widget-view+json": {
       "model_id": "77c3f00759ee4ff481f153ca59ee260a",
       "version_major": 2,
       "version_minor": 0
      },
      "text/plain": [
       "Validation: |          | 0/? [00:00<?, ?it/s]"
      ]
     },
     "metadata": {},
     "output_type": "display_data"
    },
    {
     "data": {
      "application/vnd.jupyter.widget-view+json": {
       "model_id": "5a798600ec294f4a8d1adbc8e10930e6",
       "version_major": 2,
       "version_minor": 0
      },
      "text/plain": [
       "Validation: |          | 0/? [00:00<?, ?it/s]"
      ]
     },
     "metadata": {},
     "output_type": "display_data"
    },
    {
     "data": {
      "application/vnd.jupyter.widget-view+json": {
       "model_id": "63bc7cb4ce684b3fad5b0ab493106768",
       "version_major": 2,
       "version_minor": 0
      },
      "text/plain": [
       "Validation: |          | 0/? [00:00<?, ?it/s]"
      ]
     },
     "metadata": {},
     "output_type": "display_data"
    },
    {
     "data": {
      "application/vnd.jupyter.widget-view+json": {
       "model_id": "95e1016f83234d1db2f15b65b54a190f",
       "version_major": 2,
       "version_minor": 0
      },
      "text/plain": [
       "Validation: |          | 0/? [00:00<?, ?it/s]"
      ]
     },
     "metadata": {},
     "output_type": "display_data"
    },
    {
     "data": {
      "application/vnd.jupyter.widget-view+json": {
       "model_id": "78fac6c8a4154357a0834fdb136e1a1e",
       "version_major": 2,
       "version_minor": 0
      },
      "text/plain": [
       "Validation: |          | 0/? [00:00<?, ?it/s]"
      ]
     },
     "metadata": {},
     "output_type": "display_data"
    },
    {
     "data": {
      "application/vnd.jupyter.widget-view+json": {
       "model_id": "49e1b5d7f47345038ff7fb7c840a9542",
       "version_major": 2,
       "version_minor": 0
      },
      "text/plain": [
       "Validation: |          | 0/? [00:00<?, ?it/s]"
      ]
     },
     "metadata": {},
     "output_type": "display_data"
    },
    {
     "data": {
      "application/vnd.jupyter.widget-view+json": {
       "model_id": "2f2c253353a64b15bd88993131271ccd",
       "version_major": 2,
       "version_minor": 0
      },
      "text/plain": [
       "Validation: |          | 0/? [00:00<?, ?it/s]"
      ]
     },
     "metadata": {},
     "output_type": "display_data"
    },
    {
     "data": {
      "application/vnd.jupyter.widget-view+json": {
       "model_id": "62a27feaaf55482f814ff78588c91436",
       "version_major": 2,
       "version_minor": 0
      },
      "text/plain": [
       "Validation: |          | 0/? [00:00<?, ?it/s]"
      ]
     },
     "metadata": {},
     "output_type": "display_data"
    },
    {
     "data": {
      "application/vnd.jupyter.widget-view+json": {
       "model_id": "5a9c4722b0f64829a8c60c066e823442",
       "version_major": 2,
       "version_minor": 0
      },
      "text/plain": [
       "Validation: |          | 0/? [00:00<?, ?it/s]"
      ]
     },
     "metadata": {},
     "output_type": "display_data"
    },
    {
     "data": {
      "application/vnd.jupyter.widget-view+json": {
       "model_id": "0a6e263988f74960be298da1526576d5",
       "version_major": 2,
       "version_minor": 0
      },
      "text/plain": [
       "Validation: |          | 0/? [00:00<?, ?it/s]"
      ]
     },
     "metadata": {},
     "output_type": "display_data"
    },
    {
     "data": {
      "application/vnd.jupyter.widget-view+json": {
       "model_id": "038ccdb6225341c9af53c1517c4aa656",
       "version_major": 2,
       "version_minor": 0
      },
      "text/plain": [
       "Validation: |          | 0/? [00:00<?, ?it/s]"
      ]
     },
     "metadata": {},
     "output_type": "display_data"
    },
    {
     "data": {
      "application/vnd.jupyter.widget-view+json": {
       "model_id": "3d5afa568f1842e290bf718eb73fdf1f",
       "version_major": 2,
       "version_minor": 0
      },
      "text/plain": [
       "Validation: |          | 0/? [00:00<?, ?it/s]"
      ]
     },
     "metadata": {},
     "output_type": "display_data"
    },
    {
     "data": {
      "application/vnd.jupyter.widget-view+json": {
       "model_id": "6849c8e250854a2f8b7f370102f0f701",
       "version_major": 2,
       "version_minor": 0
      },
      "text/plain": [
       "Validation: |          | 0/? [00:00<?, ?it/s]"
      ]
     },
     "metadata": {},
     "output_type": "display_data"
    },
    {
     "data": {
      "application/vnd.jupyter.widget-view+json": {
       "model_id": "6e235156910d402f841cd99a2f2b20b5",
       "version_major": 2,
       "version_minor": 0
      },
      "text/plain": [
       "Validation: |          | 0/? [00:00<?, ?it/s]"
      ]
     },
     "metadata": {},
     "output_type": "display_data"
    },
    {
     "data": {
      "application/vnd.jupyter.widget-view+json": {
       "model_id": "13e9038611ab4319ad71001c31f61daa",
       "version_major": 2,
       "version_minor": 0
      },
      "text/plain": [
       "Validation: |          | 0/? [00:00<?, ?it/s]"
      ]
     },
     "metadata": {},
     "output_type": "display_data"
    },
    {
     "data": {
      "application/vnd.jupyter.widget-view+json": {
       "model_id": "f5d17343e7a24cbfb84c61437fdc54fe",
       "version_major": 2,
       "version_minor": 0
      },
      "text/plain": [
       "Validation: |          | 0/? [00:00<?, ?it/s]"
      ]
     },
     "metadata": {},
     "output_type": "display_data"
    },
    {
     "data": {
      "application/vnd.jupyter.widget-view+json": {
       "model_id": "935d078deac24c3bb272c54025a3122e",
       "version_major": 2,
       "version_minor": 0
      },
      "text/plain": [
       "Validation: |          | 0/? [00:00<?, ?it/s]"
      ]
     },
     "metadata": {},
     "output_type": "display_data"
    },
    {
     "data": {
      "application/vnd.jupyter.widget-view+json": {
       "model_id": "37f9ce1687dd4a6fbc8bc5362b51eb02",
       "version_major": 2,
       "version_minor": 0
      },
      "text/plain": [
       "Validation: |          | 0/? [00:00<?, ?it/s]"
      ]
     },
     "metadata": {},
     "output_type": "display_data"
    },
    {
     "data": {
      "application/vnd.jupyter.widget-view+json": {
       "model_id": "da8c6e8acdd5438f9821257efa9ca53a",
       "version_major": 2,
       "version_minor": 0
      },
      "text/plain": [
       "Validation: |          | 0/? [00:00<?, ?it/s]"
      ]
     },
     "metadata": {},
     "output_type": "display_data"
    },
    {
     "data": {
      "application/vnd.jupyter.widget-view+json": {
       "model_id": "32f5f3b84b4c4fac82cbbd1efcacb80a",
       "version_major": 2,
       "version_minor": 0
      },
      "text/plain": [
       "Validation: |          | 0/? [00:00<?, ?it/s]"
      ]
     },
     "metadata": {},
     "output_type": "display_data"
    },
    {
     "data": {
      "application/vnd.jupyter.widget-view+json": {
       "model_id": "934e96ef56524b438ec4a78ebd59fa9e",
       "version_major": 2,
       "version_minor": 0
      },
      "text/plain": [
       "Validation: |          | 0/? [00:00<?, ?it/s]"
      ]
     },
     "metadata": {},
     "output_type": "display_data"
    },
    {
     "data": {
      "application/vnd.jupyter.widget-view+json": {
       "model_id": "bc1e0a88befe4051a6a9b2e4486adddb",
       "version_major": 2,
       "version_minor": 0
      },
      "text/plain": [
       "Validation: |          | 0/? [00:00<?, ?it/s]"
      ]
     },
     "metadata": {},
     "output_type": "display_data"
    },
    {
     "name": "stderr",
     "output_type": "stream",
     "text": [
      "`Trainer.fit` stopped: `max_epochs=50` reached.\n"
     ]
    }
   ],
   "source": [
    "# Trainer with a logger\n",
    "trainer = L.Trainer(max_epochs=50, logger=L.pytorch.loggers.TensorBoardLogger('tb_logs', name='simple_mlp_zprime_new_cos_anl'))\n",
    "\n",
    "# Fit the model\n",
    "trainer.fit(model_mlp, train_loader, val_loader)"
   ]
  },
  {
   "cell_type": "markdown",
   "id": "f38e0934",
   "metadata": {},
   "source": [
    "Once you have successfully trained a model, you can start thinking about how to further improve its performance. Based on the A/B project, you may consider the following directions (for reference only!):\n",
    "\n",
    "- A. Physics strategy for using AI: You can use a fixed machine learning approach (such as training a boosted decision tree) to complete this study. You may want to explore these physics-related aspects:\n",
    "  - i) Can you construct new variables that enhance the separation between signal and background? If you incorporate these variables into the input features, to what extent does the model's performance improve? Are such variables already present among the existing inputs, or can the machine learning model infer them from the current features (for example, `jet_phi1 - jet_phi2` can be derived from `jet_phi1` and `jet_phi2`, as well as more complex combinations)?\n",
    "  - ii) We often want to build a model that is sensitive to as many $Z'->qq$ signals as possible (since if Z' exists, we don't know its mass). If you train the network using only a few mass points as signal, can it generalize to other mass points? Does the model perform equally well for test mass points inside and outside the training range (i.e., can you study the model's interpolation and extrapolation ability)?\n",
    "\n",
    "- B. AI engineering. Here, you mainly explore how to optimize the network for better performance with fixed input features. You may want to try the following (for reference only):\n",
    "  - i) Test and compare the performance of the BDT, basic DNN, and transformer models mentioned in the hands-on notebook.\n",
    "  - ii) For BDT or DNN, how does changing the model depth affect performance? How does changing the feature width affect performance?\n",
    "\n",
    "Enjoy your research!"
   ]
  },
  {
   "cell_type": "markdown",
   "id": "9221585d",
   "metadata": {},
   "source": []
  }
 ],
 "metadata": {
  "kernelspec": {
   "display_name": "base",
   "language": "python",
   "name": "python3"
  },
  "language_info": {
   "codemirror_mode": {
    "name": "ipython",
    "version": 3
   },
   "file_extension": ".py",
   "mimetype": "text/x-python",
   "name": "python",
   "nbconvert_exporter": "python",
   "pygments_lexer": "ipython3",
   "version": "3.12.7"
  }
 },
 "nbformat": 4,
 "nbformat_minor": 5
}
